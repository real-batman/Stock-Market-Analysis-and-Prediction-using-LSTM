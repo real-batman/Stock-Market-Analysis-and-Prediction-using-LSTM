{
  "nbformat": 4,
  "nbformat_minor": 0,
  "metadata": {
    "colab": {
      "provenance": []
    },
    "kernelspec": {
      "name": "python3",
      "display_name": "Python 3"
    },
    "language_info": {
      "name": "python"
    }
  },
  "cells": [
    {
      "cell_type": "code",
      "source": [
        "!pip install YahooFinancials"
      ],
      "metadata": {
        "colab": {
          "base_uri": "https://localhost:8080/"
        },
        "id": "wG2Hb6ULJU_3",
        "outputId": "424ea069-4eda-483f-c16c-65e0c42536e5"
      },
      "execution_count": 1,
      "outputs": [
        {
          "output_type": "stream",
          "name": "stdout",
          "text": [
            "Collecting YahooFinancials\n",
            "  Downloading yahoofinancials-1.20.tar.gz (51 kB)\n",
            "\u001b[2K     \u001b[90m━━━━━━━━━━━━━━━━━━━━━━━━━━━━━━━━━━━━━━━━\u001b[0m \u001b[32m51.9/51.9 kB\u001b[0m \u001b[31m539.0 kB/s\u001b[0m eta \u001b[36m0:00:00\u001b[0m\n",
            "\u001b[?25h  Preparing metadata (setup.py) ... \u001b[?25l\u001b[?25hdone\n",
            "Requirement already satisfied: pytz>=2022.5 in /usr/local/lib/python3.10/dist-packages (from YahooFinancials) (2023.4)\n",
            "Requirement already satisfied: requests>=2.31 in /usr/local/lib/python3.10/dist-packages (from YahooFinancials) (2.31.0)\n",
            "Requirement already satisfied: appdirs>=1.4.4 in /usr/local/lib/python3.10/dist-packages (from YahooFinancials) (1.4.4)\n",
            "Requirement already satisfied: frozendict>=2.3.4 in /usr/local/lib/python3.10/dist-packages (from YahooFinancials) (2.4.2)\n",
            "Requirement already satisfied: peewee>=3.16.2 in /usr/local/lib/python3.10/dist-packages (from YahooFinancials) (3.17.3)\n",
            "Requirement already satisfied: beautifulsoup4>=4.11.1 in /usr/local/lib/python3.10/dist-packages (from YahooFinancials) (4.12.3)\n",
            "Requirement already satisfied: lxml>=4.9.1 in /usr/local/lib/python3.10/dist-packages (from YahooFinancials) (4.9.4)\n",
            "Requirement already satisfied: soupsieve>1.2 in /usr/local/lib/python3.10/dist-packages (from beautifulsoup4>=4.11.1->YahooFinancials) (2.5)\n",
            "Requirement already satisfied: charset-normalizer<4,>=2 in /usr/local/lib/python3.10/dist-packages (from requests>=2.31->YahooFinancials) (3.3.2)\n",
            "Requirement already satisfied: idna<4,>=2.5 in /usr/local/lib/python3.10/dist-packages (from requests>=2.31->YahooFinancials) (3.7)\n",
            "Requirement already satisfied: urllib3<3,>=1.21.1 in /usr/local/lib/python3.10/dist-packages (from requests>=2.31->YahooFinancials) (2.0.7)\n",
            "Requirement already satisfied: certifi>=2017.4.17 in /usr/local/lib/python3.10/dist-packages (from requests>=2.31->YahooFinancials) (2024.2.2)\n",
            "Building wheels for collected packages: YahooFinancials\n",
            "  Building wheel for YahooFinancials (setup.py) ... \u001b[?25l\u001b[?25hdone\n",
            "  Created wheel for YahooFinancials: filename=yahoofinancials-1.20-py3-none-any.whl size=38617 sha256=ac4adfc5ca00d94d3f54f38836c050dacf7660ca4968e0e35ab02c8d89c94e46\n",
            "  Stored in directory: /root/.cache/pip/wheels/cc/6b/dd/7ff776de4ebf7b144bb9562a813be59d0108306f368af9b637\n",
            "Successfully built YahooFinancials\n",
            "Installing collected packages: YahooFinancials\n",
            "Successfully installed YahooFinancials-1.20\n"
          ]
        }
      ]
    },
    {
      "cell_type": "code",
      "source": [
        "import pandas_datareader as pdr"
      ],
      "metadata": {
        "id": "5PewaxEQI-dz"
      },
      "execution_count": 2,
      "outputs": []
    },
    {
      "cell_type": "code",
      "source": [
        "import pandas as pd\n",
        "import yfinance as yf\n",
        "from yahoofinancials import YahooFinancials\n",
        "\n",
        "df = yf.download('MDY', start='2012-01-01', end='2024-03-31', progress=False)\n",
        "print(df.head())"
      ],
      "metadata": {
        "colab": {
          "base_uri": "https://localhost:8080/"
        },
        "id": "_jZ_BDl7_imq",
        "outputId": "e331e025-5044-4a05-d89c-08dc79aadc14"
      },
      "execution_count": 3,
      "outputs": [
        {
          "output_type": "stream",
          "name": "stdout",
          "text": [
            "                  Open        High         Low       Close   Adj Close  \\\n",
            "Date                                                                     \n",
            "2012-01-03  163.089996  163.770004  160.770004  161.279999  138.518997   \n",
            "2012-01-04  160.520004  161.500000  159.710007  160.839996  138.141098   \n",
            "2012-01-05  160.050003  162.410004  158.449997  162.080002  139.206146   \n",
            "2012-01-06  161.860001  163.009995  160.710007  161.929993  139.077286   \n",
            "2012-01-09  162.699997  163.190002  161.339996  162.830002  139.850235   \n",
            "\n",
            "             Volume  \n",
            "Date                 \n",
            "2012-01-03  3394900  \n",
            "2012-01-04  1966100  \n",
            "2012-01-05  2887300  \n",
            "2012-01-06  2139500  \n",
            "2012-01-09  1944400  \n"
          ]
        }
      ]
    },
    {
      "cell_type": "code",
      "source": [
        "df.to_csv('MDY.csv')"
      ],
      "metadata": {
        "id": "-Qt0VO1eBBJe"
      },
      "execution_count": 4,
      "outputs": []
    },
    {
      "cell_type": "code",
      "source": [
        "df = pd.read_csv('MDY.csv')"
      ],
      "metadata": {
        "id": "xCm28GDjBQrG"
      },
      "execution_count": 5,
      "outputs": []
    },
    {
      "cell_type": "code",
      "source": [
        "df.head()"
      ],
      "metadata": {
        "colab": {
          "base_uri": "https://localhost:8080/",
          "height": 206
        },
        "id": "4R0YF8nM1N_u",
        "outputId": "7c517061-5ec3-4241-b163-930f5c105749"
      },
      "execution_count": 6,
      "outputs": [
        {
          "output_type": "execute_result",
          "data": {
            "text/plain": [
              "         Date        Open        High         Low       Close   Adj Close  \\\n",
              "0  2012-01-03  163.089996  163.770004  160.770004  161.279999  138.518997   \n",
              "1  2012-01-04  160.520004  161.500000  159.710007  160.839996  138.141098   \n",
              "2  2012-01-05  160.050003  162.410004  158.449997  162.080002  139.206146   \n",
              "3  2012-01-06  161.860001  163.009995  160.710007  161.929993  139.077286   \n",
              "4  2012-01-09  162.699997  163.190002  161.339996  162.830002  139.850235   \n",
              "\n",
              "    Volume  \n",
              "0  3394900  \n",
              "1  1966100  \n",
              "2  2887300  \n",
              "3  2139500  \n",
              "4  1944400  "
            ],
            "text/html": [
              "\n",
              "  <div id=\"df-cd9d0991-7b26-4265-90b8-dc3d099d107f\" class=\"colab-df-container\">\n",
              "    <div>\n",
              "<style scoped>\n",
              "    .dataframe tbody tr th:only-of-type {\n",
              "        vertical-align: middle;\n",
              "    }\n",
              "\n",
              "    .dataframe tbody tr th {\n",
              "        vertical-align: top;\n",
              "    }\n",
              "\n",
              "    .dataframe thead th {\n",
              "        text-align: right;\n",
              "    }\n",
              "</style>\n",
              "<table border=\"1\" class=\"dataframe\">\n",
              "  <thead>\n",
              "    <tr style=\"text-align: right;\">\n",
              "      <th></th>\n",
              "      <th>Date</th>\n",
              "      <th>Open</th>\n",
              "      <th>High</th>\n",
              "      <th>Low</th>\n",
              "      <th>Close</th>\n",
              "      <th>Adj Close</th>\n",
              "      <th>Volume</th>\n",
              "    </tr>\n",
              "  </thead>\n",
              "  <tbody>\n",
              "    <tr>\n",
              "      <th>0</th>\n",
              "      <td>2012-01-03</td>\n",
              "      <td>163.089996</td>\n",
              "      <td>163.770004</td>\n",
              "      <td>160.770004</td>\n",
              "      <td>161.279999</td>\n",
              "      <td>138.518997</td>\n",
              "      <td>3394900</td>\n",
              "    </tr>\n",
              "    <tr>\n",
              "      <th>1</th>\n",
              "      <td>2012-01-04</td>\n",
              "      <td>160.520004</td>\n",
              "      <td>161.500000</td>\n",
              "      <td>159.710007</td>\n",
              "      <td>160.839996</td>\n",
              "      <td>138.141098</td>\n",
              "      <td>1966100</td>\n",
              "    </tr>\n",
              "    <tr>\n",
              "      <th>2</th>\n",
              "      <td>2012-01-05</td>\n",
              "      <td>160.050003</td>\n",
              "      <td>162.410004</td>\n",
              "      <td>158.449997</td>\n",
              "      <td>162.080002</td>\n",
              "      <td>139.206146</td>\n",
              "      <td>2887300</td>\n",
              "    </tr>\n",
              "    <tr>\n",
              "      <th>3</th>\n",
              "      <td>2012-01-06</td>\n",
              "      <td>161.860001</td>\n",
              "      <td>163.009995</td>\n",
              "      <td>160.710007</td>\n",
              "      <td>161.929993</td>\n",
              "      <td>139.077286</td>\n",
              "      <td>2139500</td>\n",
              "    </tr>\n",
              "    <tr>\n",
              "      <th>4</th>\n",
              "      <td>2012-01-09</td>\n",
              "      <td>162.699997</td>\n",
              "      <td>163.190002</td>\n",
              "      <td>161.339996</td>\n",
              "      <td>162.830002</td>\n",
              "      <td>139.850235</td>\n",
              "      <td>1944400</td>\n",
              "    </tr>\n",
              "  </tbody>\n",
              "</table>\n",
              "</div>\n",
              "    <div class=\"colab-df-buttons\">\n",
              "\n",
              "  <div class=\"colab-df-container\">\n",
              "    <button class=\"colab-df-convert\" onclick=\"convertToInteractive('df-cd9d0991-7b26-4265-90b8-dc3d099d107f')\"\n",
              "            title=\"Convert this dataframe to an interactive table.\"\n",
              "            style=\"display:none;\">\n",
              "\n",
              "  <svg xmlns=\"http://www.w3.org/2000/svg\" height=\"24px\" viewBox=\"0 -960 960 960\">\n",
              "    <path d=\"M120-120v-720h720v720H120Zm60-500h600v-160H180v160Zm220 220h160v-160H400v160Zm0 220h160v-160H400v160ZM180-400h160v-160H180v160Zm440 0h160v-160H620v160ZM180-180h160v-160H180v160Zm440 0h160v-160H620v160Z\"/>\n",
              "  </svg>\n",
              "    </button>\n",
              "\n",
              "  <style>\n",
              "    .colab-df-container {\n",
              "      display:flex;\n",
              "      gap: 12px;\n",
              "    }\n",
              "\n",
              "    .colab-df-convert {\n",
              "      background-color: #E8F0FE;\n",
              "      border: none;\n",
              "      border-radius: 50%;\n",
              "      cursor: pointer;\n",
              "      display: none;\n",
              "      fill: #1967D2;\n",
              "      height: 32px;\n",
              "      padding: 0 0 0 0;\n",
              "      width: 32px;\n",
              "    }\n",
              "\n",
              "    .colab-df-convert:hover {\n",
              "      background-color: #E2EBFA;\n",
              "      box-shadow: 0px 1px 2px rgba(60, 64, 67, 0.3), 0px 1px 3px 1px rgba(60, 64, 67, 0.15);\n",
              "      fill: #174EA6;\n",
              "    }\n",
              "\n",
              "    .colab-df-buttons div {\n",
              "      margin-bottom: 4px;\n",
              "    }\n",
              "\n",
              "    [theme=dark] .colab-df-convert {\n",
              "      background-color: #3B4455;\n",
              "      fill: #D2E3FC;\n",
              "    }\n",
              "\n",
              "    [theme=dark] .colab-df-convert:hover {\n",
              "      background-color: #434B5C;\n",
              "      box-shadow: 0px 1px 3px 1px rgba(0, 0, 0, 0.15);\n",
              "      filter: drop-shadow(0px 1px 2px rgba(0, 0, 0, 0.3));\n",
              "      fill: #FFFFFF;\n",
              "    }\n",
              "  </style>\n",
              "\n",
              "    <script>\n",
              "      const buttonEl =\n",
              "        document.querySelector('#df-cd9d0991-7b26-4265-90b8-dc3d099d107f button.colab-df-convert');\n",
              "      buttonEl.style.display =\n",
              "        google.colab.kernel.accessAllowed ? 'block' : 'none';\n",
              "\n",
              "      async function convertToInteractive(key) {\n",
              "        const element = document.querySelector('#df-cd9d0991-7b26-4265-90b8-dc3d099d107f');\n",
              "        const dataTable =\n",
              "          await google.colab.kernel.invokeFunction('convertToInteractive',\n",
              "                                                    [key], {});\n",
              "        if (!dataTable) return;\n",
              "\n",
              "        const docLinkHtml = 'Like what you see? Visit the ' +\n",
              "          '<a target=\"_blank\" href=https://colab.research.google.com/notebooks/data_table.ipynb>data table notebook</a>'\n",
              "          + ' to learn more about interactive tables.';\n",
              "        element.innerHTML = '';\n",
              "        dataTable['output_type'] = 'display_data';\n",
              "        await google.colab.output.renderOutput(dataTable, element);\n",
              "        const docLink = document.createElement('div');\n",
              "        docLink.innerHTML = docLinkHtml;\n",
              "        element.appendChild(docLink);\n",
              "      }\n",
              "    </script>\n",
              "  </div>\n",
              "\n",
              "\n",
              "<div id=\"df-3e841df0-4a05-4738-a94a-8f2fc656e0ed\">\n",
              "  <button class=\"colab-df-quickchart\" onclick=\"quickchart('df-3e841df0-4a05-4738-a94a-8f2fc656e0ed')\"\n",
              "            title=\"Suggest charts\"\n",
              "            style=\"display:none;\">\n",
              "\n",
              "<svg xmlns=\"http://www.w3.org/2000/svg\" height=\"24px\"viewBox=\"0 0 24 24\"\n",
              "     width=\"24px\">\n",
              "    <g>\n",
              "        <path d=\"M19 3H5c-1.1 0-2 .9-2 2v14c0 1.1.9 2 2 2h14c1.1 0 2-.9 2-2V5c0-1.1-.9-2-2-2zM9 17H7v-7h2v7zm4 0h-2V7h2v10zm4 0h-2v-4h2v4z\"/>\n",
              "    </g>\n",
              "</svg>\n",
              "  </button>\n",
              "\n",
              "<style>\n",
              "  .colab-df-quickchart {\n",
              "      --bg-color: #E8F0FE;\n",
              "      --fill-color: #1967D2;\n",
              "      --hover-bg-color: #E2EBFA;\n",
              "      --hover-fill-color: #174EA6;\n",
              "      --disabled-fill-color: #AAA;\n",
              "      --disabled-bg-color: #DDD;\n",
              "  }\n",
              "\n",
              "  [theme=dark] .colab-df-quickchart {\n",
              "      --bg-color: #3B4455;\n",
              "      --fill-color: #D2E3FC;\n",
              "      --hover-bg-color: #434B5C;\n",
              "      --hover-fill-color: #FFFFFF;\n",
              "      --disabled-bg-color: #3B4455;\n",
              "      --disabled-fill-color: #666;\n",
              "  }\n",
              "\n",
              "  .colab-df-quickchart {\n",
              "    background-color: var(--bg-color);\n",
              "    border: none;\n",
              "    border-radius: 50%;\n",
              "    cursor: pointer;\n",
              "    display: none;\n",
              "    fill: var(--fill-color);\n",
              "    height: 32px;\n",
              "    padding: 0;\n",
              "    width: 32px;\n",
              "  }\n",
              "\n",
              "  .colab-df-quickchart:hover {\n",
              "    background-color: var(--hover-bg-color);\n",
              "    box-shadow: 0 1px 2px rgba(60, 64, 67, 0.3), 0 1px 3px 1px rgba(60, 64, 67, 0.15);\n",
              "    fill: var(--button-hover-fill-color);\n",
              "  }\n",
              "\n",
              "  .colab-df-quickchart-complete:disabled,\n",
              "  .colab-df-quickchart-complete:disabled:hover {\n",
              "    background-color: var(--disabled-bg-color);\n",
              "    fill: var(--disabled-fill-color);\n",
              "    box-shadow: none;\n",
              "  }\n",
              "\n",
              "  .colab-df-spinner {\n",
              "    border: 2px solid var(--fill-color);\n",
              "    border-color: transparent;\n",
              "    border-bottom-color: var(--fill-color);\n",
              "    animation:\n",
              "      spin 1s steps(1) infinite;\n",
              "  }\n",
              "\n",
              "  @keyframes spin {\n",
              "    0% {\n",
              "      border-color: transparent;\n",
              "      border-bottom-color: var(--fill-color);\n",
              "      border-left-color: var(--fill-color);\n",
              "    }\n",
              "    20% {\n",
              "      border-color: transparent;\n",
              "      border-left-color: var(--fill-color);\n",
              "      border-top-color: var(--fill-color);\n",
              "    }\n",
              "    30% {\n",
              "      border-color: transparent;\n",
              "      border-left-color: var(--fill-color);\n",
              "      border-top-color: var(--fill-color);\n",
              "      border-right-color: var(--fill-color);\n",
              "    }\n",
              "    40% {\n",
              "      border-color: transparent;\n",
              "      border-right-color: var(--fill-color);\n",
              "      border-top-color: var(--fill-color);\n",
              "    }\n",
              "    60% {\n",
              "      border-color: transparent;\n",
              "      border-right-color: var(--fill-color);\n",
              "    }\n",
              "    80% {\n",
              "      border-color: transparent;\n",
              "      border-right-color: var(--fill-color);\n",
              "      border-bottom-color: var(--fill-color);\n",
              "    }\n",
              "    90% {\n",
              "      border-color: transparent;\n",
              "      border-bottom-color: var(--fill-color);\n",
              "    }\n",
              "  }\n",
              "</style>\n",
              "\n",
              "  <script>\n",
              "    async function quickchart(key) {\n",
              "      const quickchartButtonEl =\n",
              "        document.querySelector('#' + key + ' button');\n",
              "      quickchartButtonEl.disabled = true;  // To prevent multiple clicks.\n",
              "      quickchartButtonEl.classList.add('colab-df-spinner');\n",
              "      try {\n",
              "        const charts = await google.colab.kernel.invokeFunction(\n",
              "            'suggestCharts', [key], {});\n",
              "      } catch (error) {\n",
              "        console.error('Error during call to suggestCharts:', error);\n",
              "      }\n",
              "      quickchartButtonEl.classList.remove('colab-df-spinner');\n",
              "      quickchartButtonEl.classList.add('colab-df-quickchart-complete');\n",
              "    }\n",
              "    (() => {\n",
              "      let quickchartButtonEl =\n",
              "        document.querySelector('#df-3e841df0-4a05-4738-a94a-8f2fc656e0ed button');\n",
              "      quickchartButtonEl.style.display =\n",
              "        google.colab.kernel.accessAllowed ? 'block' : 'none';\n",
              "    })();\n",
              "  </script>\n",
              "</div>\n",
              "\n",
              "    </div>\n",
              "  </div>\n"
            ],
            "application/vnd.google.colaboratory.intrinsic+json": {
              "type": "dataframe",
              "variable_name": "df",
              "summary": "{\n  \"name\": \"df\",\n  \"rows\": 3079,\n  \"fields\": [\n    {\n      \"column\": \"Date\",\n      \"properties\": {\n        \"dtype\": \"object\",\n        \"num_unique_values\": 3079,\n        \"samples\": [\n          \"2012-04-03\",\n          \"2023-01-12\",\n          \"2020-01-08\"\n        ],\n        \"semantic_type\": \"\",\n        \"description\": \"\"\n      }\n    },\n    {\n      \"column\": \"Open\",\n      \"properties\": {\n        \"dtype\": \"number\",\n        \"std\": 100.24609747568631,\n        \"min\": 160.0500030517578,\n        \"max\": 554.5499877929688,\n        \"num_unique_values\": 2919,\n        \"samples\": [\n          493.4400024414063,\n          442.2900085449219,\n          526.2100219726562\n        ],\n        \"semantic_type\": \"\",\n        \"description\": \"\"\n      }\n    },\n    {\n      \"column\": \"High\",\n      \"properties\": {\n        \"dtype\": \"number\",\n        \"std\": 101.08244065286742,\n        \"min\": 161.5,\n        \"max\": 558.3400268554688,\n        \"num_unique_values\": 2917,\n        \"samples\": [\n          355.2300109863281,\n          266.57000732421875,\n          513.4199829101562\n        ],\n        \"semantic_type\": \"\",\n        \"description\": \"\"\n      }\n    },\n    {\n      \"column\": \"Low\",\n      \"properties\": {\n        \"dtype\": \"number\",\n        \"std\": 99.45691778756155,\n        \"min\": 158.4499969482422,\n        \"max\": 554.5499877929688,\n        \"num_unique_values\": 2907,\n        \"samples\": [\n          358.989990234375,\n          345.1600036621094,\n          248.02999877929688\n        ],\n        \"semantic_type\": \"\",\n        \"description\": \"\"\n      }\n    },\n    {\n      \"column\": \"Close\",\n      \"properties\": {\n        \"dtype\": \"number\",\n        \"std\": 100.263654745161,\n        \"min\": 160.83999633789062,\n        \"max\": 556.4000244140625,\n        \"num_unique_values\": 2904,\n        \"samples\": [\n          172.80999755859375,\n          279.9100036621094,\n          246.0399932861328\n        ],\n        \"semantic_type\": \"\",\n        \"description\": \"\"\n      }\n    },\n    {\n      \"column\": \"Adj Close\",\n      \"properties\": {\n        \"dtype\": \"number\",\n        \"std\": 106.66068337368053,\n        \"min\": 138.14109802246094,\n        \"max\": 556.4000244140625,\n        \"num_unique_values\": 3042,\n        \"samples\": [\n          181.6282501220703,\n          437.5321350097656,\n          146.07579040527344\n        ],\n        \"semantic_type\": \"\",\n        \"description\": \"\"\n      }\n    },\n    {\n      \"column\": \"Volume\",\n      \"properties\": {\n        \"dtype\": \"number\",\n        \"std\": 1205540,\n        \"min\": 274700,\n        \"max\": 25643200,\n        \"num_unique_values\": 2850,\n        \"samples\": [\n          701900,\n          2059800,\n          549200\n        ],\n        \"semantic_type\": \"\",\n        \"description\": \"\"\n      }\n    }\n  ]\n}"
            }
          },
          "metadata": {},
          "execution_count": 6
        }
      ]
    },
    {
      "cell_type": "code",
      "source": [
        "df.tail()"
      ],
      "metadata": {
        "colab": {
          "base_uri": "https://localhost:8080/",
          "height": 206
        },
        "id": "vSMuAExU1QnK",
        "outputId": "190405ac-1806-4af4-b982-cc70a04bd7c9"
      },
      "execution_count": 7,
      "outputs": [
        {
          "output_type": "execute_result",
          "data": {
            "text/plain": [
              "            Date        Open        High         Low       Close   Adj Close  \\\n",
              "3074  2024-03-22  550.229980  550.940002  545.250000  545.590027  545.590027   \n",
              "3075  2024-03-25  546.299988  548.750000  545.770020  545.770020  545.770020   \n",
              "3076  2024-03-26  547.590027  548.739990  544.809998  545.049988  545.049988   \n",
              "3077  2024-03-27  548.049988  554.419983  547.869995  554.409973  554.409973   \n",
              "3078  2024-03-28  554.549988  558.340027  554.549988  556.400024  556.400024   \n",
              "\n",
              "       Volume  \n",
              "3074   704100  \n",
              "3075   595700  \n",
              "3076   525300  \n",
              "3077  1131600  \n",
              "3078  1146200  "
            ],
            "text/html": [
              "\n",
              "  <div id=\"df-bcf76dfb-4c00-4c61-9e27-4aabcf306711\" class=\"colab-df-container\">\n",
              "    <div>\n",
              "<style scoped>\n",
              "    .dataframe tbody tr th:only-of-type {\n",
              "        vertical-align: middle;\n",
              "    }\n",
              "\n",
              "    .dataframe tbody tr th {\n",
              "        vertical-align: top;\n",
              "    }\n",
              "\n",
              "    .dataframe thead th {\n",
              "        text-align: right;\n",
              "    }\n",
              "</style>\n",
              "<table border=\"1\" class=\"dataframe\">\n",
              "  <thead>\n",
              "    <tr style=\"text-align: right;\">\n",
              "      <th></th>\n",
              "      <th>Date</th>\n",
              "      <th>Open</th>\n",
              "      <th>High</th>\n",
              "      <th>Low</th>\n",
              "      <th>Close</th>\n",
              "      <th>Adj Close</th>\n",
              "      <th>Volume</th>\n",
              "    </tr>\n",
              "  </thead>\n",
              "  <tbody>\n",
              "    <tr>\n",
              "      <th>3074</th>\n",
              "      <td>2024-03-22</td>\n",
              "      <td>550.229980</td>\n",
              "      <td>550.940002</td>\n",
              "      <td>545.250000</td>\n",
              "      <td>545.590027</td>\n",
              "      <td>545.590027</td>\n",
              "      <td>704100</td>\n",
              "    </tr>\n",
              "    <tr>\n",
              "      <th>3075</th>\n",
              "      <td>2024-03-25</td>\n",
              "      <td>546.299988</td>\n",
              "      <td>548.750000</td>\n",
              "      <td>545.770020</td>\n",
              "      <td>545.770020</td>\n",
              "      <td>545.770020</td>\n",
              "      <td>595700</td>\n",
              "    </tr>\n",
              "    <tr>\n",
              "      <th>3076</th>\n",
              "      <td>2024-03-26</td>\n",
              "      <td>547.590027</td>\n",
              "      <td>548.739990</td>\n",
              "      <td>544.809998</td>\n",
              "      <td>545.049988</td>\n",
              "      <td>545.049988</td>\n",
              "      <td>525300</td>\n",
              "    </tr>\n",
              "    <tr>\n",
              "      <th>3077</th>\n",
              "      <td>2024-03-27</td>\n",
              "      <td>548.049988</td>\n",
              "      <td>554.419983</td>\n",
              "      <td>547.869995</td>\n",
              "      <td>554.409973</td>\n",
              "      <td>554.409973</td>\n",
              "      <td>1131600</td>\n",
              "    </tr>\n",
              "    <tr>\n",
              "      <th>3078</th>\n",
              "      <td>2024-03-28</td>\n",
              "      <td>554.549988</td>\n",
              "      <td>558.340027</td>\n",
              "      <td>554.549988</td>\n",
              "      <td>556.400024</td>\n",
              "      <td>556.400024</td>\n",
              "      <td>1146200</td>\n",
              "    </tr>\n",
              "  </tbody>\n",
              "</table>\n",
              "</div>\n",
              "    <div class=\"colab-df-buttons\">\n",
              "\n",
              "  <div class=\"colab-df-container\">\n",
              "    <button class=\"colab-df-convert\" onclick=\"convertToInteractive('df-bcf76dfb-4c00-4c61-9e27-4aabcf306711')\"\n",
              "            title=\"Convert this dataframe to an interactive table.\"\n",
              "            style=\"display:none;\">\n",
              "\n",
              "  <svg xmlns=\"http://www.w3.org/2000/svg\" height=\"24px\" viewBox=\"0 -960 960 960\">\n",
              "    <path d=\"M120-120v-720h720v720H120Zm60-500h600v-160H180v160Zm220 220h160v-160H400v160Zm0 220h160v-160H400v160ZM180-400h160v-160H180v160Zm440 0h160v-160H620v160ZM180-180h160v-160H180v160Zm440 0h160v-160H620v160Z\"/>\n",
              "  </svg>\n",
              "    </button>\n",
              "\n",
              "  <style>\n",
              "    .colab-df-container {\n",
              "      display:flex;\n",
              "      gap: 12px;\n",
              "    }\n",
              "\n",
              "    .colab-df-convert {\n",
              "      background-color: #E8F0FE;\n",
              "      border: none;\n",
              "      border-radius: 50%;\n",
              "      cursor: pointer;\n",
              "      display: none;\n",
              "      fill: #1967D2;\n",
              "      height: 32px;\n",
              "      padding: 0 0 0 0;\n",
              "      width: 32px;\n",
              "    }\n",
              "\n",
              "    .colab-df-convert:hover {\n",
              "      background-color: #E2EBFA;\n",
              "      box-shadow: 0px 1px 2px rgba(60, 64, 67, 0.3), 0px 1px 3px 1px rgba(60, 64, 67, 0.15);\n",
              "      fill: #174EA6;\n",
              "    }\n",
              "\n",
              "    .colab-df-buttons div {\n",
              "      margin-bottom: 4px;\n",
              "    }\n",
              "\n",
              "    [theme=dark] .colab-df-convert {\n",
              "      background-color: #3B4455;\n",
              "      fill: #D2E3FC;\n",
              "    }\n",
              "\n",
              "    [theme=dark] .colab-df-convert:hover {\n",
              "      background-color: #434B5C;\n",
              "      box-shadow: 0px 1px 3px 1px rgba(0, 0, 0, 0.15);\n",
              "      filter: drop-shadow(0px 1px 2px rgba(0, 0, 0, 0.3));\n",
              "      fill: #FFFFFF;\n",
              "    }\n",
              "  </style>\n",
              "\n",
              "    <script>\n",
              "      const buttonEl =\n",
              "        document.querySelector('#df-bcf76dfb-4c00-4c61-9e27-4aabcf306711 button.colab-df-convert');\n",
              "      buttonEl.style.display =\n",
              "        google.colab.kernel.accessAllowed ? 'block' : 'none';\n",
              "\n",
              "      async function convertToInteractive(key) {\n",
              "        const element = document.querySelector('#df-bcf76dfb-4c00-4c61-9e27-4aabcf306711');\n",
              "        const dataTable =\n",
              "          await google.colab.kernel.invokeFunction('convertToInteractive',\n",
              "                                                    [key], {});\n",
              "        if (!dataTable) return;\n",
              "\n",
              "        const docLinkHtml = 'Like what you see? Visit the ' +\n",
              "          '<a target=\"_blank\" href=https://colab.research.google.com/notebooks/data_table.ipynb>data table notebook</a>'\n",
              "          + ' to learn more about interactive tables.';\n",
              "        element.innerHTML = '';\n",
              "        dataTable['output_type'] = 'display_data';\n",
              "        await google.colab.output.renderOutput(dataTable, element);\n",
              "        const docLink = document.createElement('div');\n",
              "        docLink.innerHTML = docLinkHtml;\n",
              "        element.appendChild(docLink);\n",
              "      }\n",
              "    </script>\n",
              "  </div>\n",
              "\n",
              "\n",
              "<div id=\"df-6cf6c140-7fbd-47fb-b7de-57acbffcbdf9\">\n",
              "  <button class=\"colab-df-quickchart\" onclick=\"quickchart('df-6cf6c140-7fbd-47fb-b7de-57acbffcbdf9')\"\n",
              "            title=\"Suggest charts\"\n",
              "            style=\"display:none;\">\n",
              "\n",
              "<svg xmlns=\"http://www.w3.org/2000/svg\" height=\"24px\"viewBox=\"0 0 24 24\"\n",
              "     width=\"24px\">\n",
              "    <g>\n",
              "        <path d=\"M19 3H5c-1.1 0-2 .9-2 2v14c0 1.1.9 2 2 2h14c1.1 0 2-.9 2-2V5c0-1.1-.9-2-2-2zM9 17H7v-7h2v7zm4 0h-2V7h2v10zm4 0h-2v-4h2v4z\"/>\n",
              "    </g>\n",
              "</svg>\n",
              "  </button>\n",
              "\n",
              "<style>\n",
              "  .colab-df-quickchart {\n",
              "      --bg-color: #E8F0FE;\n",
              "      --fill-color: #1967D2;\n",
              "      --hover-bg-color: #E2EBFA;\n",
              "      --hover-fill-color: #174EA6;\n",
              "      --disabled-fill-color: #AAA;\n",
              "      --disabled-bg-color: #DDD;\n",
              "  }\n",
              "\n",
              "  [theme=dark] .colab-df-quickchart {\n",
              "      --bg-color: #3B4455;\n",
              "      --fill-color: #D2E3FC;\n",
              "      --hover-bg-color: #434B5C;\n",
              "      --hover-fill-color: #FFFFFF;\n",
              "      --disabled-bg-color: #3B4455;\n",
              "      --disabled-fill-color: #666;\n",
              "  }\n",
              "\n",
              "  .colab-df-quickchart {\n",
              "    background-color: var(--bg-color);\n",
              "    border: none;\n",
              "    border-radius: 50%;\n",
              "    cursor: pointer;\n",
              "    display: none;\n",
              "    fill: var(--fill-color);\n",
              "    height: 32px;\n",
              "    padding: 0;\n",
              "    width: 32px;\n",
              "  }\n",
              "\n",
              "  .colab-df-quickchart:hover {\n",
              "    background-color: var(--hover-bg-color);\n",
              "    box-shadow: 0 1px 2px rgba(60, 64, 67, 0.3), 0 1px 3px 1px rgba(60, 64, 67, 0.15);\n",
              "    fill: var(--button-hover-fill-color);\n",
              "  }\n",
              "\n",
              "  .colab-df-quickchart-complete:disabled,\n",
              "  .colab-df-quickchart-complete:disabled:hover {\n",
              "    background-color: var(--disabled-bg-color);\n",
              "    fill: var(--disabled-fill-color);\n",
              "    box-shadow: none;\n",
              "  }\n",
              "\n",
              "  .colab-df-spinner {\n",
              "    border: 2px solid var(--fill-color);\n",
              "    border-color: transparent;\n",
              "    border-bottom-color: var(--fill-color);\n",
              "    animation:\n",
              "      spin 1s steps(1) infinite;\n",
              "  }\n",
              "\n",
              "  @keyframes spin {\n",
              "    0% {\n",
              "      border-color: transparent;\n",
              "      border-bottom-color: var(--fill-color);\n",
              "      border-left-color: var(--fill-color);\n",
              "    }\n",
              "    20% {\n",
              "      border-color: transparent;\n",
              "      border-left-color: var(--fill-color);\n",
              "      border-top-color: var(--fill-color);\n",
              "    }\n",
              "    30% {\n",
              "      border-color: transparent;\n",
              "      border-left-color: var(--fill-color);\n",
              "      border-top-color: var(--fill-color);\n",
              "      border-right-color: var(--fill-color);\n",
              "    }\n",
              "    40% {\n",
              "      border-color: transparent;\n",
              "      border-right-color: var(--fill-color);\n",
              "      border-top-color: var(--fill-color);\n",
              "    }\n",
              "    60% {\n",
              "      border-color: transparent;\n",
              "      border-right-color: var(--fill-color);\n",
              "    }\n",
              "    80% {\n",
              "      border-color: transparent;\n",
              "      border-right-color: var(--fill-color);\n",
              "      border-bottom-color: var(--fill-color);\n",
              "    }\n",
              "    90% {\n",
              "      border-color: transparent;\n",
              "      border-bottom-color: var(--fill-color);\n",
              "    }\n",
              "  }\n",
              "</style>\n",
              "\n",
              "  <script>\n",
              "    async function quickchart(key) {\n",
              "      const quickchartButtonEl =\n",
              "        document.querySelector('#' + key + ' button');\n",
              "      quickchartButtonEl.disabled = true;  // To prevent multiple clicks.\n",
              "      quickchartButtonEl.classList.add('colab-df-spinner');\n",
              "      try {\n",
              "        const charts = await google.colab.kernel.invokeFunction(\n",
              "            'suggestCharts', [key], {});\n",
              "      } catch (error) {\n",
              "        console.error('Error during call to suggestCharts:', error);\n",
              "      }\n",
              "      quickchartButtonEl.classList.remove('colab-df-spinner');\n",
              "      quickchartButtonEl.classList.add('colab-df-quickchart-complete');\n",
              "    }\n",
              "    (() => {\n",
              "      let quickchartButtonEl =\n",
              "        document.querySelector('#df-6cf6c140-7fbd-47fb-b7de-57acbffcbdf9 button');\n",
              "      quickchartButtonEl.style.display =\n",
              "        google.colab.kernel.accessAllowed ? 'block' : 'none';\n",
              "    })();\n",
              "  </script>\n",
              "</div>\n",
              "\n",
              "    </div>\n",
              "  </div>\n"
            ],
            "application/vnd.google.colaboratory.intrinsic+json": {
              "type": "dataframe",
              "repr_error": "0"
            }
          },
          "metadata": {},
          "execution_count": 7
        }
      ]
    },
    {
      "cell_type": "code",
      "source": [
        "df.shape"
      ],
      "metadata": {
        "colab": {
          "base_uri": "https://localhost:8080/"
        },
        "id": "LRUhkzsX1Uxh",
        "outputId": "81afd37d-d0ce-4510-c495-6dbbf59388eb"
      },
      "execution_count": 8,
      "outputs": [
        {
          "output_type": "execute_result",
          "data": {
            "text/plain": [
              "(3079, 7)"
            ]
          },
          "metadata": {},
          "execution_count": 8
        }
      ]
    },
    {
      "cell_type": "code",
      "source": [
        "df1 = df.reset_index()['Close']"
      ],
      "metadata": {
        "id": "d3UA8EjD1Wga"
      },
      "execution_count": 9,
      "outputs": []
    },
    {
      "cell_type": "code",
      "source": [
        "df1.shape"
      ],
      "metadata": {
        "colab": {
          "base_uri": "https://localhost:8080/"
        },
        "id": "jrpfjPAOJOOZ",
        "outputId": "abf84341-421e-4c40-f89b-a5e218de9c51"
      },
      "execution_count": 10,
      "outputs": [
        {
          "output_type": "execute_result",
          "data": {
            "text/plain": [
              "(3079,)"
            ]
          },
          "metadata": {},
          "execution_count": 10
        }
      ]
    },
    {
      "cell_type": "code",
      "source": [
        "import matplotlib.pyplot as plt\n",
        "plt.plot(df1)"
      ],
      "metadata": {
        "colab": {
          "base_uri": "https://localhost:8080/",
          "height": 447
        },
        "id": "FwuvRisIZB75",
        "outputId": "0eb02b7f-c0c0-4550-ca4a-d1ea6d358344"
      },
      "execution_count": 11,
      "outputs": [
        {
          "output_type": "execute_result",
          "data": {
            "text/plain": [
              "[<matplotlib.lines.Line2D at 0x7a34950953c0>]"
            ]
          },
          "metadata": {},
          "execution_count": 11
        },
        {
          "output_type": "display_data",
          "data": {
            "text/plain": [
              "<Figure size 640x480 with 1 Axes>"
            ],
            "image/png": "[encoded data removed]"
          },
          "metadata": {}
        }
      ]
    },
    {
      "cell_type": "code",
      "source": [
        "import numpy as np"
      ],
      "metadata": {
        "id": "nsjPuXCVJQxr"
      },
      "execution_count": 12,
      "outputs": []
    },
    {
      "cell_type": "markdown",
      "source": [
        "## Scaling Data Between 0 and 1"
      ],
      "metadata": {
        "id": "sgU1vy6lJ7bz"
      }
    },
    {
      "cell_type": "code",
      "source": [
        "from sklearn.preprocessing import MinMaxScaler\n",
        "scaler = MinMaxScaler(feature_range=(0,1))\n",
        "df1 = scaler.fit_transform(np.array(df1).reshape(-1,1))"
      ],
      "metadata": {
        "id": "ARbokbx-JVDv"
      },
      "execution_count": 13,
      "outputs": []
    },
    {
      "cell_type": "code",
      "source": [
        "df1"
      ],
      "metadata": {
        "colab": {
          "base_uri": "https://localhost:8080/"
        },
        "id": "4bBOpOmHJzdZ",
        "outputId": "454127ef-696d-479d-8b23-e8e8179d4d50"
      },
      "execution_count": 14,
      "outputs": [
        {
          "output_type": "execute_result",
          "data": {
            "text/plain": [
              "array([[0.00111235],\n",
              "       [0.        ],\n",
              "       [0.00313481],\n",
              "       ...,\n",
              "       [0.97130641],\n",
              "       [0.99496903],\n",
              "       [1.        ]])"
            ]
          },
          "metadata": {},
          "execution_count": 14
        }
      ]
    },
    {
      "cell_type": "markdown",
      "source": [
        "## Splitting Data into Training and Test Set"
      ],
      "metadata": {
        "id": "PVzO7xblKC-_"
      }
    },
    {
      "cell_type": "code",
      "source": [
        "training_size = int(len(df1) * 0.65)\n",
        "test_size = len(df1) - training_size\n",
        "train_data = df1[0 : training_size, :]\n",
        "test_data = df1[training_size: len(df1), :1]"
      ],
      "metadata": {
        "id": "2BdgVmpyJ1pY"
      },
      "execution_count": 15,
      "outputs": []
    },
    {
      "cell_type": "code",
      "source": [
        "len(train_data), len(test_data)"
      ],
      "metadata": {
        "colab": {
          "base_uri": "https://localhost:8080/"
        },
        "id": "S2qnejTtKjYV",
        "outputId": "35a046bf-1745-49cc-eef5-376bfe99b9fd"
      },
      "execution_count": 16,
      "outputs": [
        {
          "output_type": "execute_result",
          "data": {
            "text/plain": [
              "(2001, 1078)"
            ]
          },
          "metadata": {},
          "execution_count": 16
        }
      ]
    },
    {
      "cell_type": "markdown",
      "source": [
        "## Converting Array of Values into a Dataset Matrix"
      ],
      "metadata": {
        "id": "h4HEfFV4Kxio"
      }
    },
    {
      "cell_type": "code",
      "source": [
        "def create_dataset(dataset, time_step = 1):\n",
        "  dataX = []\n",
        "  dataY = []\n",
        "  for i in range(len(dataset) - time_step - 1):\n",
        "    a = dataset[i : (i+time_step),0]\n",
        "    dataX.append(a)\n",
        "    dataY.append(dataset[i+time_step,0])\n",
        "  return np.array(dataX), np.array(dataY)"
      ],
      "metadata": {
        "id": "FhzhRBk1KmQg"
      },
      "execution_count": 17,
      "outputs": []
    },
    {
      "cell_type": "code",
      "source": [
        "# Reshape into x = t, t+1, t+2, t+3 and y= t+4\n",
        "time_step = 100\n",
        "x_train, y_train = create_dataset(train_data, time_step)\n",
        "x_test, y_test = create_dataset(test_data, time_step)"
      ],
      "metadata": {
        "id": "ctho-jEcLkc5"
      },
      "execution_count": 18,
      "outputs": []
    },
    {
      "cell_type": "code",
      "source": [
        "x_train.shape"
      ],
      "metadata": {
        "colab": {
          "base_uri": "https://localhost:8080/"
        },
        "id": "f7Xe4IzkMceu",
        "outputId": "7580a685-8764-4069-fbf1-8ce43c2b513b"
      },
      "execution_count": 19,
      "outputs": [
        {
          "output_type": "execute_result",
          "data": {
            "text/plain": [
              "(1900, 100)"
            ]
          },
          "metadata": {},
          "execution_count": 19
        }
      ]
    },
    {
      "cell_type": "markdown",
      "source": [
        "# **Creating Stacked LSTM Model**"
      ],
      "metadata": {
        "id": "Leyu0wa2MhUv"
      }
    },
    {
      "cell_type": "code",
      "source": [
        "x_train = x_train.reshape(x_train.shape[0],x_train.shape[1],1)\n",
        "x_test = x_test.reshape(x_test.shape[0],x_test.shape[1],1)"
      ],
      "metadata": {
        "id": "M_9tkaYeMeB4"
      },
      "execution_count": 20,
      "outputs": []
    },
    {
      "cell_type": "code",
      "source": [
        "from tensorflow.keras.models import Sequential\n",
        "from tensorflow.keras.layers import Dense\n",
        "from tensorflow.keras.layers import LSTM"
      ],
      "metadata": {
        "id": "AZqdVbrDNQIb"
      },
      "execution_count": 21,
      "outputs": []
    },
    {
      "cell_type": "code",
      "source": [
        "model = Sequential()\n",
        "model.add(LSTM(50, return_sequences = True, input_shape=(100,1)))\n",
        "model.add(LSTM(50, return_sequences = True))\n",
        "model.add(LSTM(50))\n",
        "model.add(Dense(1))\n",
        "model.compile(loss = 'mean_squared_error', optimizer = 'adam')"
      ],
      "metadata": {
        "id": "s1b_KXGBNvzF"
      },
      "execution_count": 22,
      "outputs": []
    },
    {
      "cell_type": "code",
      "source": [
        "model.summary()"
      ],
      "metadata": {
        "colab": {
          "base_uri": "https://localhost:8080/"
        },
        "id": "pi_UZbITTM8t",
        "outputId": "6180119e-47a9-40d2-9e21-be8107972973"
      },
      "execution_count": 23,
      "outputs": [
        {
          "output_type": "stream",
          "name": "stdout",
          "text": [
            "Model: \"sequential\"\n",
            "_________________________________________________________________\n",
            " Layer (type)                Output Shape              Param #   \n",
            "=================================================================\n",
            " lstm (LSTM)                 (None, 100, 50)           10400     \n",
            "                                                                 \n",
            " lstm_1 (LSTM)               (None, 100, 50)           20200     \n",
            "                                                                 \n",
            " lstm_2 (LSTM)               (None, 50)                20200     \n",
            "                                                                 \n",
            " dense (Dense)               (None, 1)                 51        \n",
            "                                                                 \n",
            "=================================================================\n",
            "Total params: 50851 (198.64 KB)\n",
            "Trainable params: 50851 (198.64 KB)\n",
            "Non-trainable params: 0 (0.00 Byte)\n",
            "_________________________________________________________________\n"
          ]
        }
      ]
    },
    {
      "cell_type": "code",
      "source": [
        "model.fit(x_train, y_train, validation_data = (x_test, y_test), epochs = 100, batch_size = 64, verbose = 1)"
      ],
      "metadata": {
        "colab": {
          "base_uri": "https://localhost:8080/"
        },
        "id": "CHXBxkY5Te-Z",
        "outputId": "4cb9e3a9-a50d-4869-8cfc-a3946d104d73"
      },
      "execution_count": 24,
      "outputs": [
        {
          "output_type": "stream",
          "name": "stdout",
          "text": [
            "Epoch 1/100\n",
            "30/30 [==============================] - 14s 284ms/step - loss: 0.0147 - val_loss: 0.0221\n",
            "Epoch 2/100\n",
            "30/30 [==============================] - 7s 235ms/step - loss: 9.2134e-04 - val_loss: 0.0016\n",
            "Epoch 3/100\n",
            "30/30 [==============================] - 6s 186ms/step - loss: 3.3762e-04 - val_loss: 0.0030\n",
            "Epoch 4/100\n",
            "30/30 [==============================] - 7s 225ms/step - loss: 3.1575e-04 - val_loss: 0.0028\n",
            "Epoch 5/100\n",
            "30/30 [==============================] - 5s 175ms/step - loss: 3.0813e-04 - val_loss: 0.0028\n",
            "Epoch 6/100\n",
            "30/30 [==============================] - 6s 214ms/step - loss: 3.1367e-04 - val_loss: 0.0029\n",
            "Epoch 7/100\n",
            "30/30 [==============================] - 6s 182ms/step - loss: 3.0160e-04 - val_loss: 0.0029\n",
            "Epoch 8/100\n",
            "30/30 [==============================] - 6s 216ms/step - loss: 3.0287e-04 - val_loss: 0.0032\n",
            "Epoch 9/100\n",
            "30/30 [==============================] - 6s 197ms/step - loss: 3.2173e-04 - val_loss: 0.0038\n",
            "Epoch 10/100\n",
            "30/30 [==============================] - 6s 198ms/step - loss: 3.1248e-04 - val_loss: 0.0028\n",
            "Epoch 11/100\n",
            "30/30 [==============================] - 6s 195ms/step - loss: 2.9600e-04 - val_loss: 0.0027\n",
            "Epoch 12/100\n",
            "30/30 [==============================] - 6s 193ms/step - loss: 3.0636e-04 - val_loss: 0.0027\n",
            "Epoch 13/100\n",
            "30/30 [==============================] - 6s 197ms/step - loss: 2.9528e-04 - val_loss: 0.0031\n",
            "Epoch 14/100\n",
            "30/30 [==============================] - 6s 188ms/step - loss: 2.8455e-04 - val_loss: 0.0027\n",
            "Epoch 15/100\n",
            "30/30 [==============================] - 7s 233ms/step - loss: 2.9207e-04 - val_loss: 0.0018\n",
            "Epoch 16/100\n",
            "30/30 [==============================] - 5s 174ms/step - loss: 2.9063e-04 - val_loss: 0.0036\n",
            "Epoch 17/100\n",
            "30/30 [==============================] - 6s 214ms/step - loss: 2.6977e-04 - val_loss: 0.0031\n",
            "Epoch 18/100\n",
            "30/30 [==============================] - 6s 185ms/step - loss: 2.6398e-04 - val_loss: 0.0031\n",
            "Epoch 19/100\n",
            "30/30 [==============================] - 7s 235ms/step - loss: 2.5154e-04 - val_loss: 0.0030\n",
            "Epoch 20/100\n",
            "30/30 [==============================] - 6s 201ms/step - loss: 2.7801e-04 - val_loss: 0.0018\n",
            "Epoch 21/100\n",
            "30/30 [==============================] - 7s 239ms/step - loss: 2.5609e-04 - val_loss: 0.0015\n",
            "Epoch 22/100\n",
            "30/30 [==============================] - 6s 204ms/step - loss: 2.3936e-04 - val_loss: 0.0026\n",
            "Epoch 23/100\n",
            "30/30 [==============================] - 7s 239ms/step - loss: 2.4039e-04 - val_loss: 0.0012\n",
            "Epoch 24/100\n",
            "30/30 [==============================] - 5s 174ms/step - loss: 2.4395e-04 - val_loss: 0.0023\n",
            "Epoch 25/100\n",
            "30/30 [==============================] - 7s 234ms/step - loss: 2.2425e-04 - val_loss: 0.0019\n",
            "Epoch 26/100\n",
            "30/30 [==============================] - 5s 180ms/step - loss: 2.3785e-04 - val_loss: 0.0041\n",
            "Epoch 27/100\n",
            "30/30 [==============================] - 7s 230ms/step - loss: 2.4472e-04 - val_loss: 0.0014\n",
            "Epoch 28/100\n",
            "30/30 [==============================] - 5s 181ms/step - loss: 2.1489e-04 - val_loss: 0.0018\n",
            "Epoch 29/100\n",
            "30/30 [==============================] - 7s 239ms/step - loss: 2.1566e-04 - val_loss: 0.0015\n",
            "Epoch 30/100\n",
            "30/30 [==============================] - 5s 179ms/step - loss: 2.3184e-04 - val_loss: 0.0014\n",
            "Epoch 31/100\n",
            "30/30 [==============================] - 6s 208ms/step - loss: 2.0490e-04 - val_loss: 0.0017\n",
            "Epoch 32/100\n",
            "30/30 [==============================] - 6s 203ms/step - loss: 2.0748e-04 - val_loss: 0.0013\n",
            "Epoch 33/100\n",
            "30/30 [==============================] - 7s 234ms/step - loss: 2.1797e-04 - val_loss: 0.0022\n",
            "Epoch 34/100\n",
            "30/30 [==============================] - 6s 184ms/step - loss: 1.8056e-04 - val_loss: 0.0012\n",
            "Epoch 35/100\n",
            "30/30 [==============================] - 6s 214ms/step - loss: 1.7171e-04 - val_loss: 0.0019\n",
            "Epoch 36/100\n",
            "30/30 [==============================] - 5s 180ms/step - loss: 1.8200e-04 - val_loss: 0.0017\n",
            "Epoch 37/100\n",
            "30/30 [==============================] - 7s 238ms/step - loss: 1.6801e-04 - val_loss: 0.0019\n",
            "Epoch 38/100\n",
            "30/30 [==============================] - 5s 173ms/step - loss: 1.6612e-04 - val_loss: 0.0019\n",
            "Epoch 39/100\n",
            "30/30 [==============================] - 7s 229ms/step - loss: 1.6657e-04 - val_loss: 0.0010\n",
            "Epoch 40/100\n",
            "30/30 [==============================] - 5s 174ms/step - loss: 1.6389e-04 - val_loss: 0.0019\n",
            "Epoch 41/100\n",
            "30/30 [==============================] - 6s 204ms/step - loss: 1.7100e-04 - val_loss: 0.0018\n",
            "Epoch 42/100\n",
            "30/30 [==============================] - 5s 173ms/step - loss: 1.8047e-04 - val_loss: 0.0021\n",
            "Epoch 43/100\n",
            "30/30 [==============================] - 6s 200ms/step - loss: 1.7922e-04 - val_loss: 0.0018\n",
            "Epoch 44/100\n",
            "30/30 [==============================] - 6s 212ms/step - loss: 1.5963e-04 - val_loss: 7.4221e-04\n",
            "Epoch 45/100\n",
            "30/30 [==============================] - 6s 197ms/step - loss: 1.7748e-04 - val_loss: 0.0012\n",
            "Epoch 46/100\n",
            "30/30 [==============================] - 6s 211ms/step - loss: 1.4450e-04 - val_loss: 9.3354e-04\n",
            "Epoch 47/100\n",
            "30/30 [==============================] - 5s 177ms/step - loss: 1.4042e-04 - val_loss: 9.6594e-04\n",
            "Epoch 48/100\n",
            "30/30 [==============================] - 7s 225ms/step - loss: 1.3589e-04 - val_loss: 0.0010\n",
            "Epoch 49/100\n",
            "30/30 [==============================] - 6s 193ms/step - loss: 1.7161e-04 - val_loss: 6.7089e-04\n",
            "Epoch 50/100\n",
            "30/30 [==============================] - 6s 195ms/step - loss: 1.4881e-04 - val_loss: 0.0011\n",
            "Epoch 51/100\n",
            "30/30 [==============================] - 5s 177ms/step - loss: 1.3475e-04 - val_loss: 9.9664e-04\n",
            "Epoch 52/100\n",
            "30/30 [==============================] - 7s 236ms/step - loss: 1.2967e-04 - val_loss: 0.0011\n",
            "Epoch 53/100\n",
            "30/30 [==============================] - 5s 177ms/step - loss: 1.3333e-04 - val_loss: 0.0020\n",
            "Epoch 54/100\n",
            "30/30 [==============================] - 7s 239ms/step - loss: 1.3469e-04 - val_loss: 0.0011\n",
            "Epoch 55/100\n",
            "30/30 [==============================] - 6s 203ms/step - loss: 1.2445e-04 - val_loss: 7.2308e-04\n",
            "Epoch 56/100\n",
            "30/30 [==============================] - 7s 234ms/step - loss: 1.4579e-04 - val_loss: 9.6336e-04\n",
            "Epoch 57/100\n",
            "30/30 [==============================] - 5s 182ms/step - loss: 1.1830e-04 - val_loss: 7.1942e-04\n",
            "Epoch 58/100\n",
            "30/30 [==============================] - 7s 227ms/step - loss: 1.2077e-04 - val_loss: 5.4519e-04\n",
            "Epoch 59/100\n",
            "30/30 [==============================] - 6s 197ms/step - loss: 1.2300e-04 - val_loss: 8.5837e-04\n",
            "Epoch 60/100\n",
            "30/30 [==============================] - 7s 234ms/step - loss: 1.1087e-04 - val_loss: 8.5961e-04\n",
            "Epoch 61/100\n",
            "30/30 [==============================] - 6s 195ms/step - loss: 1.2498e-04 - val_loss: 0.0015\n",
            "Epoch 62/100\n",
            "30/30 [==============================] - 6s 209ms/step - loss: 1.1130e-04 - val_loss: 7.9613e-04\n",
            "Epoch 63/100\n",
            "30/30 [==============================] - 5s 177ms/step - loss: 1.1041e-04 - val_loss: 8.1219e-04\n",
            "Epoch 64/100\n",
            "30/30 [==============================] - 6s 209ms/step - loss: 1.1105e-04 - val_loss: 9.9329e-04\n",
            "Epoch 65/100\n",
            "30/30 [==============================] - 6s 201ms/step - loss: 1.2250e-04 - val_loss: 6.7664e-04\n",
            "Epoch 66/100\n",
            "30/30 [==============================] - 7s 239ms/step - loss: 1.0355e-04 - val_loss: 9.4727e-04\n",
            "Epoch 67/100\n",
            "30/30 [==============================] - 6s 204ms/step - loss: 1.0255e-04 - val_loss: 5.4773e-04\n",
            "Epoch 68/100\n",
            "30/30 [==============================] - 7s 233ms/step - loss: 1.0143e-04 - val_loss: 4.7820e-04\n",
            "Epoch 69/100\n",
            "30/30 [==============================] - 6s 196ms/step - loss: 9.9426e-05 - val_loss: 0.0013\n",
            "Epoch 70/100\n",
            "30/30 [==============================] - 6s 208ms/step - loss: 9.8630e-05 - val_loss: 4.3002e-04\n",
            "Epoch 71/100\n",
            "30/30 [==============================] - 6s 204ms/step - loss: 9.8526e-05 - val_loss: 7.3626e-04\n",
            "Epoch 72/100\n",
            "30/30 [==============================] - 6s 213ms/step - loss: 9.4035e-05 - val_loss: 7.7710e-04\n",
            "Epoch 73/100\n",
            "30/30 [==============================] - 5s 179ms/step - loss: 8.8383e-05 - val_loss: 3.7463e-04\n",
            "Epoch 74/100\n",
            "30/30 [==============================] - 6s 219ms/step - loss: 9.0267e-05 - val_loss: 3.6576e-04\n",
            "Epoch 75/100\n",
            "30/30 [==============================] - 6s 202ms/step - loss: 9.1928e-05 - val_loss: 8.9136e-04\n",
            "Epoch 76/100\n",
            "30/30 [==============================] - 6s 211ms/step - loss: 9.8539e-05 - val_loss: 4.5672e-04\n",
            "Epoch 77/100\n",
            "30/30 [==============================] - 6s 196ms/step - loss: 8.0358e-05 - val_loss: 7.9192e-04\n",
            "Epoch 78/100\n",
            "30/30 [==============================] - 7s 240ms/step - loss: 9.6640e-05 - val_loss: 5.5343e-04\n",
            "Epoch 79/100\n",
            "30/30 [==============================] - 6s 200ms/step - loss: 8.6566e-05 - val_loss: 5.6127e-04\n",
            "Epoch 80/100\n",
            "30/30 [==============================] - 6s 206ms/step - loss: 7.8951e-05 - val_loss: 3.6120e-04\n",
            "Epoch 81/100\n",
            "30/30 [==============================] - 6s 200ms/step - loss: 7.9649e-05 - val_loss: 3.3695e-04\n",
            "Epoch 82/100\n",
            "30/30 [==============================] - 6s 213ms/step - loss: 8.0064e-05 - val_loss: 5.9459e-04\n",
            "Epoch 83/100\n",
            "30/30 [==============================] - 5s 172ms/step - loss: 7.7060e-05 - val_loss: 3.3120e-04\n",
            "Epoch 84/100\n",
            "30/30 [==============================] - 6s 205ms/step - loss: 8.4720e-05 - val_loss: 4.2389e-04\n",
            "Epoch 85/100\n",
            "30/30 [==============================] - 5s 179ms/step - loss: 7.7277e-05 - val_loss: 3.0704e-04\n",
            "Epoch 86/100\n",
            "30/30 [==============================] - 7s 220ms/step - loss: 1.2116e-04 - val_loss: 4.4936e-04\n",
            "Epoch 87/100\n",
            "30/30 [==============================] - 5s 184ms/step - loss: 7.9301e-05 - val_loss: 6.5022e-04\n",
            "Epoch 88/100\n",
            "30/30 [==============================] - 6s 191ms/step - loss: 7.3855e-05 - val_loss: 3.0734e-04\n",
            "Epoch 89/100\n",
            "30/30 [==============================] - 6s 188ms/step - loss: 8.3728e-05 - val_loss: 4.7335e-04\n",
            "Epoch 90/100\n",
            "30/30 [==============================] - 5s 181ms/step - loss: 7.1109e-05 - val_loss: 3.9570e-04\n",
            "Epoch 91/100\n",
            "30/30 [==============================] - 7s 232ms/step - loss: 6.6407e-05 - val_loss: 3.2900e-04\n",
            "Epoch 92/100\n",
            "30/30 [==============================] - 5s 175ms/step - loss: 7.3539e-05 - val_loss: 3.4641e-04\n",
            "Epoch 93/100\n",
            "30/30 [==============================] - 6s 214ms/step - loss: 6.4963e-05 - val_loss: 2.7942e-04\n",
            "Epoch 94/100\n",
            "30/30 [==============================] - 6s 204ms/step - loss: 7.5973e-05 - val_loss: 5.2216e-04\n",
            "Epoch 95/100\n",
            "30/30 [==============================] - 6s 211ms/step - loss: 8.7198e-05 - val_loss: 6.0524e-04\n",
            "Epoch 96/100\n",
            "30/30 [==============================] - 6s 197ms/step - loss: 6.7494e-05 - val_loss: 3.6088e-04\n",
            "Epoch 97/100\n",
            "30/30 [==============================] - 6s 211ms/step - loss: 6.3482e-05 - val_loss: 2.7742e-04\n",
            "Epoch 98/100\n",
            "30/30 [==============================] - 5s 173ms/step - loss: 6.9264e-05 - val_loss: 5.2588e-04\n",
            "Epoch 99/100\n",
            "30/30 [==============================] - 6s 219ms/step - loss: 6.4298e-05 - val_loss: 3.7485e-04\n",
            "Epoch 100/100\n",
            "30/30 [==============================] - 6s 199ms/step - loss: 8.2525e-05 - val_loss: 3.1666e-04\n"
          ]
        },
        {
          "output_type": "execute_result",
          "data": {
            "text/plain": [
              "<keras.src.callbacks.History at 0x7a3431a1c340>"
            ]
          },
          "metadata": {},
          "execution_count": 24
        }
      ]
    },
    {
      "cell_type": "markdown",
      "source": [
        "# **Predicting and Checking Performance Matrix**"
      ],
      "metadata": {
        "id": "HmN6FJ1IU_I8"
      }
    },
    {
      "cell_type": "code",
      "source": [
        "import tensorflow as tf\n",
        "train_predict = model.predict(x_train)\n",
        "test_predict = model.predict(x_test)"
      ],
      "metadata": {
        "colab": {
          "base_uri": "https://localhost:8080/"
        },
        "id": "rYw3k1MkTyHa",
        "outputId": "909f736b-8591-457a-83d4-dda0c7671b2e"
      },
      "execution_count": 25,
      "outputs": [
        {
          "output_type": "stream",
          "name": "stdout",
          "text": [
            "60/60 [==============================] - 3s 34ms/step\n",
            "31/31 [==============================] - 1s 33ms/step\n"
          ]
        }
      ]
    },
    {
      "cell_type": "markdown",
      "source": [
        "## Transform back to Original Form"
      ],
      "metadata": {
        "id": "MWZOsNN5VX01"
      }
    },
    {
      "cell_type": "code",
      "source": [
        "train_predict = scaler.inverse_transform(train_predict)\n",
        "test_predict = scaler.inverse_transform(test_predict)"
      ],
      "metadata": {
        "id": "ucPIbrUvVbEP"
      },
      "execution_count": 26,
      "outputs": []
    },
    {
      "cell_type": "markdown",
      "source": [
        "## Calculating RMSE Performance Matrix"
      ],
      "metadata": {
        "id": "NpBJ5X4hVrvL"
      }
    },
    {
      "cell_type": "code",
      "source": [
        "import math\n",
        "from sklearn.metrics import mean_squared_error\n",
        "math.sqrt(mean_squared_error(y_train, train_predict))\n",
        "math.sqrt(mean_squared_error(y_test, test_predict))"
      ],
      "metadata": {
        "colab": {
          "base_uri": "https://localhost:8080/"
        },
        "id": "R8FS3zsWVww8",
        "outputId": "14ceb1f7-df59-4117-9c84-69f7d3cafcca"
      },
      "execution_count": 27,
      "outputs": [
        {
          "output_type": "execute_result",
          "data": {
            "text/plain": [
              "452.54921685"
            ]
          },
          "metadata": {},
          "execution_count": 27
        }
      ]
    },
    {
      "cell_type": "markdown",
      "source": [
        "# Plotting"
      ],
      "metadata": {
        "id": "ebTaPPF1WQsn"
      }
    },
    {
      "cell_type": "code",
      "source": [
        "import matplotlib.pyplot as plt\n",
        "%matplotlib inline\n",
        "#Shift Train Prediction for Plotting\n",
        "look_back = 100\n",
        "trainPredictPlot = np.empty_like(df1)\n",
        "trainPredictPlot[:,:] = np.nan\n",
        "trainPredictPlot[look_back:len(train_predict) + look_back, : ] = train_predict\n",
        "\n",
        "#Shift Test Prediction for Plotting\n",
        "testPredictPlot = np.empty_like(df1)\n",
        "testPredictPlot[:,:] = np.nan\n",
        "testPredictPlot[len(train_predict) + (look_back*2)+1: len(df1)-1, : ] = test_predict\n",
        "\n",
        "#Plotting Baseline and Prediction\n",
        "plt.plot(scaler.inverse_transform(df1))\n",
        "plt.plot(trainPredictPlot)\n",
        "plt.plot(testPredictPlot)"
      ],
      "metadata": {
        "colab": {
          "base_uri": "https://localhost:8080/",
          "height": 447
        },
        "id": "jHfdHEd0WSko",
        "outputId": "d26c3197-515a-4bfb-ffe9-d9ebefbe79f9"
      },
      "execution_count": 28,
      "outputs": [
        {
          "output_type": "execute_result",
          "data": {
            "text/plain": [
              "[<matplotlib.lines.Line2D at 0x7a3431ffa080>]"
            ]
          },
          "metadata": {},
          "execution_count": 28
        },
        {
          "output_type": "display_data",
          "data": {
            "text/plain": [
              "<Figure size 640x480 with 1 Axes>"
            ],
            "image/png": "[encoded data removed]"
          },
          "metadata": {}
        }
      ]
    },
    {
      "cell_type": "markdown",
      "source": [
        "# **Predicting Future 30 Days**"
      ],
      "metadata": {
        "id": "n9fobxAGYMLg"
      }
    },
    {
      "cell_type": "code",
      "source": [
        "len(test_data)"
      ],
      "metadata": {
        "colab": {
          "base_uri": "https://localhost:8080/"
        },
        "id": "0ObgAP_mX1dg",
        "outputId": "cd5126ab-63fc-4873-b578-410629bfb951"
      },
      "execution_count": 29,
      "outputs": [
        {
          "output_type": "execute_result",
          "data": {
            "text/plain": [
              "1078"
            ]
          },
          "metadata": {},
          "execution_count": 29
        }
      ]
    },
    {
      "cell_type": "code",
      "source": [
        "x_input=test_data[978:].reshape(1,-1)\n",
        "x_input.shape"
      ],
      "metadata": {
        "colab": {
          "base_uri": "https://localhost:8080/"
        },
        "id": "PgRX7K5xZNi0",
        "outputId": "7363ee5e-ef7b-422c-ff83-d89f5fb58829"
      },
      "execution_count": 30,
      "outputs": [
        {
          "output_type": "execute_result",
          "data": {
            "text/plain": [
              "(1, 100)"
            ]
          },
          "metadata": {},
          "execution_count": 30
        }
      ]
    },
    {
      "cell_type": "code",
      "source": [
        "temp_input=list(x_input)\n",
        "temp_input=temp_input[0].tolist()"
      ],
      "metadata": {
        "id": "M_8GHWHAZVh8"
      },
      "execution_count": 31,
      "outputs": []
    },
    {
      "cell_type": "code",
      "source": [
        "temp_input"
      ],
      "metadata": {
        "colab": {
          "base_uri": "https://localhost:8080/"
        },
        "id": "jg54-tzPZZZh",
        "outputId": "5cfad226-7404-449f-95f8-269d2cc26638"
      },
      "execution_count": 32,
      "outputs": [
        {
          "output_type": "execute_result",
          "data": {
            "text/plain": [
              "[0.7386237048488429,\n",
              " 0.7272726571360835,\n",
              " 0.7243907073688034,\n",
              " 0.7190059244493263,\n",
              " 0.7071240054650194,\n",
              " 0.7208008263723824,\n",
              " 0.7190312297504551,\n",
              " 0.762994175691774,\n",
              " 0.7681767476531456,\n",
              " 0.755662813343084,\n",
              " 0.7657245251032059,\n",
              " 0.7710081639684763,\n",
              " 0.7651430432294009,\n",
              " 0.7719688396076723,\n",
              " 0.7772524784729424,\n",
              " 0.7752047549895227,\n",
              " 0.7676457992312897,\n",
              " 0.7720952118126998,\n",
              " 0.77861757602835,\n",
              " 0.8073363925487926,\n",
              " 0.8167913171339805,\n",
              " 0.8010415445923769,\n",
              " 0.7986398554943865,\n",
              " 0.8053898131195798,\n",
              " 0.8107745188887487,\n",
              " 0.8170946721462933,\n",
              " 0.8151480927170804,\n",
              " 0.845864022118685,\n",
              " 0.8758720974414569,\n",
              " 0.8588835223991649,\n",
              " 0.8603751464602165,\n",
              " 0.8770855946410161,\n",
              " 0.8565072157526117,\n",
              " 0.8740771955184004,\n",
              " 0.8788804965640724,\n",
              " 0.8885124039565455,\n",
              " 0.8892707914873277,\n",
              " 0.8885124039565455,\n",
              " 0.8760743855498707,\n",
              " 0.8719283279807735,\n",
              " 0.8430831392553035,\n",
              " 0.8406056885545434,\n",
              " 0.8450550239856451,\n",
              " 0.8614621943044403,\n",
              " 0.8526139797438779,\n",
              " 0.8564312998492252,\n",
              " 0.8529678682081401,\n",
              " 0.8525886744427491,\n",
              " 0.8443724752079413,\n",
              " 0.8355495659485079,\n",
              " 0.8454089896002157,\n",
              " 0.8578976186091483,\n",
              " 0.8726109539087856,\n",
              " 0.8672767044412579,\n",
              " 0.8594650042729699,\n",
              " 0.8675042207004924,\n",
              " 0.8687430232011808,\n",
              " 0.8807765425413359,\n",
              " 0.8773384162013795,\n",
              " 0.8537768663411798,\n",
              " 0.8711952457511205,\n",
              " 0.870082892605768,\n",
              " 0.8555465401134157,\n",
              " 0.8615633383586472,\n",
              " 0.8688693954062083,\n",
              " 0.8804478822278943,\n",
              " 0.8900544843192384,\n",
              " 0.9023156742192446,\n",
              " 0.8700322820035102,\n",
              " 0.8880067608358186,\n",
              " 0.9118212094066902,\n",
              " 0.8992062081927301,\n",
              " 0.8895236901979993,\n",
              " 0.8927848337306703,\n",
              " 0.9124279194313158,\n",
              " 0.9120233432144877,\n",
              " 0.9115936159971474,\n",
              " 0.9170794658205232,\n",
              " 0.9178631586524342,\n",
              " 0.9282029972740482,\n",
              " 0.9373292615457944,\n",
              " 0.9471887623478104,\n",
              " 0.9434472809955414,\n",
              " 0.9521942743515883,\n",
              " 0.964379548348208,\n",
              " 0.9570229578486977,\n",
              " 0.9512335987123923,\n",
              " 0.9580340897895347,\n",
              " 0.963343111106242,\n",
              " 0.9477448617701785,\n",
              " 0.94362410950221,\n",
              " 0.9403882712706679,\n",
              " 0.9504246005793526,\n",
              " 0.9686519781223328,\n",
              " 0.9842247678566511,\n",
              " 0.9726716634864023,\n",
              " 0.9731266960048717,\n",
              " 0.9713064116303782,\n",
              " 0.9949690283944765,\n",
              " 1.0]"
            ]
          },
          "metadata": {},
          "execution_count": 32
        }
      ]
    },
    {
      "cell_type": "code",
      "source": [
        "from numpy import array\n",
        "\n",
        "lst_output=[]\n",
        "n_steps=100\n",
        "i=0\n",
        "while(i<30):\n",
        "\n",
        "    if(len(temp_input)>100):\n",
        "        #print(temp_input)\n",
        "        x_input=np.array(temp_input[1:])\n",
        "        print(\"{} day input {}\".format(i,x_input))\n",
        "        x_input=x_input.reshape(1,-1)\n",
        "        x_input = x_input.reshape((1, n_steps, 1))\n",
        "        #print(x_input)\n",
        "        yhat = model.predict(x_input, verbose=0)\n",
        "        print(\"{} day output {}\".format(i,yhat))\n",
        "        temp_input.extend(yhat[0].tolist())\n",
        "        temp_input=temp_input[1:]\n",
        "        #print(temp_input)\n",
        "        lst_output.extend(yhat.tolist())\n",
        "        i=i+1\n",
        "    else:\n",
        "        x_input = x_input.reshape((1, n_steps,1))\n",
        "        yhat = model.predict(x_input, verbose=0)\n",
        "        print(yhat[0])\n",
        "        temp_input.extend(yhat[0].tolist())\n",
        "        print(len(temp_input))\n",
        "        lst_output.extend(yhat.tolist())\n",
        "        i=i+1\n",
        "\n",
        "\n",
        "print(lst_output)"
      ],
      "metadata": {
        "colab": {
          "base_uri": "https://localhost:8080/"
        },
        "id": "2RLeBlQoZbz4",
        "outputId": "2937312e-5a77-4088-fd12-7084f562ffe0"
      },
      "execution_count": 33,
      "outputs": [
        {
          "output_type": "stream",
          "name": "stdout",
          "text": [
            "[0.9781359]\n",
            "101\n",
            "1 day input [0.72727266 0.72439071 0.71900592 0.70712401 0.72080083 0.71903123\n",
            " 0.76299418 0.76817675 0.75566281 0.76572453 0.77100816 0.76514304\n",
            " 0.77196884 0.77725248 0.77520475 0.7676458  0.77209521 0.77861758\n",
            " 0.80733639 0.81679132 0.80104154 0.79863986 0.80538981 0.81077452\n",
            " 0.81709467 0.81514809 0.84586402 0.8758721  0.85888352 0.86037515\n",
            " 0.87708559 0.85650722 0.8740772  0.8788805  0.8885124  0.88927079\n",
            " 0.8885124  0.87607439 0.87192833 0.84308314 0.84060569 0.84505502\n",
            " 0.86146219 0.85261398 0.8564313  0.85296787 0.85258867 0.84437248\n",
            " 0.83554957 0.84540899 0.85789762 0.87261095 0.8672767  0.859465\n",
            " 0.86750422 0.86874302 0.88077654 0.87733842 0.85377687 0.87119525\n",
            " 0.87008289 0.85554654 0.86156334 0.8688694  0.88044788 0.89005448\n",
            " 0.90231567 0.87003228 0.88800676 0.91182121 0.89920621 0.88952369\n",
            " 0.89278483 0.91242792 0.91202334 0.91159362 0.91707947 0.91786316\n",
            " 0.928203   0.93732926 0.94718876 0.94344728 0.95219427 0.96437955\n",
            " 0.95702296 0.9512336  0.95803409 0.96334311 0.94774486 0.94362411\n",
            " 0.94038827 0.9504246  0.96865198 0.98422477 0.97267166 0.9731267\n",
            " 0.97130641 0.99496903 1.         0.97813588]\n",
            "1 day output [[0.96189785]]\n",
            "2 day input [0.72439071 0.71900592 0.70712401 0.72080083 0.71903123 0.76299418\n",
            " 0.76817675 0.75566281 0.76572453 0.77100816 0.76514304 0.77196884\n",
            " 0.77725248 0.77520475 0.7676458  0.77209521 0.77861758 0.80733639\n",
            " 0.81679132 0.80104154 0.79863986 0.80538981 0.81077452 0.81709467\n",
            " 0.81514809 0.84586402 0.8758721  0.85888352 0.86037515 0.87708559\n",
            " 0.85650722 0.8740772  0.8788805  0.8885124  0.88927079 0.8885124\n",
            " 0.87607439 0.87192833 0.84308314 0.84060569 0.84505502 0.86146219\n",
            " 0.85261398 0.8564313  0.85296787 0.85258867 0.84437248 0.83554957\n",
            " 0.84540899 0.85789762 0.87261095 0.8672767  0.859465   0.86750422\n",
            " 0.86874302 0.88077654 0.87733842 0.85377687 0.87119525 0.87008289\n",
            " 0.85554654 0.86156334 0.8688694  0.88044788 0.89005448 0.90231567\n",
            " 0.87003228 0.88800676 0.91182121 0.89920621 0.88952369 0.89278483\n",
            " 0.91242792 0.91202334 0.91159362 0.91707947 0.91786316 0.928203\n",
            " 0.93732926 0.94718876 0.94344728 0.95219427 0.96437955 0.95702296\n",
            " 0.9512336  0.95803409 0.96334311 0.94774486 0.94362411 0.94038827\n",
            " 0.9504246  0.96865198 0.98422477 0.97267166 0.9731267  0.97130641\n",
            " 0.99496903 1.         0.97813588 0.96189785]\n",
            "2 day output [[0.9426425]]\n",
            "3 day input [0.71900592 0.70712401 0.72080083 0.71903123 0.76299418 0.76817675\n",
            " 0.75566281 0.76572453 0.77100816 0.76514304 0.77196884 0.77725248\n",
            " 0.77520475 0.7676458  0.77209521 0.77861758 0.80733639 0.81679132\n",
            " 0.80104154 0.79863986 0.80538981 0.81077452 0.81709467 0.81514809\n",
            " 0.84586402 0.8758721  0.85888352 0.86037515 0.87708559 0.85650722\n",
            " 0.8740772  0.8788805  0.8885124  0.88927079 0.8885124  0.87607439\n",
            " 0.87192833 0.84308314 0.84060569 0.84505502 0.86146219 0.85261398\n",
            " 0.8564313  0.85296787 0.85258867 0.84437248 0.83554957 0.84540899\n",
            " 0.85789762 0.87261095 0.8672767  0.859465   0.86750422 0.86874302\n",
            " 0.88077654 0.87733842 0.85377687 0.87119525 0.87008289 0.85554654\n",
            " 0.86156334 0.8688694  0.88044788 0.89005448 0.90231567 0.87003228\n",
            " 0.88800676 0.91182121 0.89920621 0.88952369 0.89278483 0.91242792\n",
            " 0.91202334 0.91159362 0.91707947 0.91786316 0.928203   0.93732926\n",
            " 0.94718876 0.94344728 0.95219427 0.96437955 0.95702296 0.9512336\n",
            " 0.95803409 0.96334311 0.94774486 0.94362411 0.94038827 0.9504246\n",
            " 0.96865198 0.98422477 0.97267166 0.9731267  0.97130641 0.99496903\n",
            " 1.         0.97813588 0.96189785 0.94264251]\n",
            "3 day output [[0.92579764]]\n",
            "4 day input [0.70712401 0.72080083 0.71903123 0.76299418 0.76817675 0.75566281\n",
            " 0.76572453 0.77100816 0.76514304 0.77196884 0.77725248 0.77520475\n",
            " 0.7676458  0.77209521 0.77861758 0.80733639 0.81679132 0.80104154\n",
            " 0.79863986 0.80538981 0.81077452 0.81709467 0.81514809 0.84586402\n",
            " 0.8758721  0.85888352 0.86037515 0.87708559 0.85650722 0.8740772\n",
            " 0.8788805  0.8885124  0.88927079 0.8885124  0.87607439 0.87192833\n",
            " 0.84308314 0.84060569 0.84505502 0.86146219 0.85261398 0.8564313\n",
            " 0.85296787 0.85258867 0.84437248 0.83554957 0.84540899 0.85789762\n",
            " 0.87261095 0.8672767  0.859465   0.86750422 0.86874302 0.88077654\n",
            " 0.87733842 0.85377687 0.87119525 0.87008289 0.85554654 0.86156334\n",
            " 0.8688694  0.88044788 0.89005448 0.90231567 0.87003228 0.88800676\n",
            " 0.91182121 0.89920621 0.88952369 0.89278483 0.91242792 0.91202334\n",
            " 0.91159362 0.91707947 0.91786316 0.928203   0.93732926 0.94718876\n",
            " 0.94344728 0.95219427 0.96437955 0.95702296 0.9512336  0.95803409\n",
            " 0.96334311 0.94774486 0.94362411 0.94038827 0.9504246  0.96865198\n",
            " 0.98422477 0.97267166 0.9731267  0.97130641 0.99496903 1.\n",
            " 0.97813588 0.96189785 0.94264251 0.92579764]\n",
            "4 day output [[0.91149336]]\n",
            "5 day input [0.72080083 0.71903123 0.76299418 0.76817675 0.75566281 0.76572453\n",
            " 0.77100816 0.76514304 0.77196884 0.77725248 0.77520475 0.7676458\n",
            " 0.77209521 0.77861758 0.80733639 0.81679132 0.80104154 0.79863986\n",
            " 0.80538981 0.81077452 0.81709467 0.81514809 0.84586402 0.8758721\n",
            " 0.85888352 0.86037515 0.87708559 0.85650722 0.8740772  0.8788805\n",
            " 0.8885124  0.88927079 0.8885124  0.87607439 0.87192833 0.84308314\n",
            " 0.84060569 0.84505502 0.86146219 0.85261398 0.8564313  0.85296787\n",
            " 0.85258867 0.84437248 0.83554957 0.84540899 0.85789762 0.87261095\n",
            " 0.8672767  0.859465   0.86750422 0.86874302 0.88077654 0.87733842\n",
            " 0.85377687 0.87119525 0.87008289 0.85554654 0.86156334 0.8688694\n",
            " 0.88044788 0.89005448 0.90231567 0.87003228 0.88800676 0.91182121\n",
            " 0.89920621 0.88952369 0.89278483 0.91242792 0.91202334 0.91159362\n",
            " 0.91707947 0.91786316 0.928203   0.93732926 0.94718876 0.94344728\n",
            " 0.95219427 0.96437955 0.95702296 0.9512336  0.95803409 0.96334311\n",
            " 0.94774486 0.94362411 0.94038827 0.9504246  0.96865198 0.98422477\n",
            " 0.97267166 0.9731267  0.97130641 0.99496903 1.         0.97813588\n",
            " 0.96189785 0.94264251 0.92579764 0.91149336]\n",
            "5 day output [[0.8994508]]\n",
            "6 day input [0.71903123 0.76299418 0.76817675 0.75566281 0.76572453 0.77100816\n",
            " 0.76514304 0.77196884 0.77725248 0.77520475 0.7676458  0.77209521\n",
            " 0.77861758 0.80733639 0.81679132 0.80104154 0.79863986 0.80538981\n",
            " 0.81077452 0.81709467 0.81514809 0.84586402 0.8758721  0.85888352\n",
            " 0.86037515 0.87708559 0.85650722 0.8740772  0.8788805  0.8885124\n",
            " 0.88927079 0.8885124  0.87607439 0.87192833 0.84308314 0.84060569\n",
            " 0.84505502 0.86146219 0.85261398 0.8564313  0.85296787 0.85258867\n",
            " 0.84437248 0.83554957 0.84540899 0.85789762 0.87261095 0.8672767\n",
            " 0.859465   0.86750422 0.86874302 0.88077654 0.87733842 0.85377687\n",
            " 0.87119525 0.87008289 0.85554654 0.86156334 0.8688694  0.88044788\n",
            " 0.89005448 0.90231567 0.87003228 0.88800676 0.91182121 0.89920621\n",
            " 0.88952369 0.89278483 0.91242792 0.91202334 0.91159362 0.91707947\n",
            " 0.91786316 0.928203   0.93732926 0.94718876 0.94344728 0.95219427\n",
            " 0.96437955 0.95702296 0.9512336  0.95803409 0.96334311 0.94774486\n",
            " 0.94362411 0.94038827 0.9504246  0.96865198 0.98422477 0.97267166\n",
            " 0.9731267  0.97130641 0.99496903 1.         0.97813588 0.96189785\n",
            " 0.94264251 0.92579764 0.91149336 0.89945078]\n",
            "6 day output [[0.8891378]]\n",
            "7 day input [0.76299418 0.76817675 0.75566281 0.76572453 0.77100816 0.76514304\n",
            " 0.77196884 0.77725248 0.77520475 0.7676458  0.77209521 0.77861758\n",
            " 0.80733639 0.81679132 0.80104154 0.79863986 0.80538981 0.81077452\n",
            " 0.81709467 0.81514809 0.84586402 0.8758721  0.85888352 0.86037515\n",
            " 0.87708559 0.85650722 0.8740772  0.8788805  0.8885124  0.88927079\n",
            " 0.8885124  0.87607439 0.87192833 0.84308314 0.84060569 0.84505502\n",
            " 0.86146219 0.85261398 0.8564313  0.85296787 0.85258867 0.84437248\n",
            " 0.83554957 0.84540899 0.85789762 0.87261095 0.8672767  0.859465\n",
            " 0.86750422 0.86874302 0.88077654 0.87733842 0.85377687 0.87119525\n",
            " 0.87008289 0.85554654 0.86156334 0.8688694  0.88044788 0.89005448\n",
            " 0.90231567 0.87003228 0.88800676 0.91182121 0.89920621 0.88952369\n",
            " 0.89278483 0.91242792 0.91202334 0.91159362 0.91707947 0.91786316\n",
            " 0.928203   0.93732926 0.94718876 0.94344728 0.95219427 0.96437955\n",
            " 0.95702296 0.9512336  0.95803409 0.96334311 0.94774486 0.94362411\n",
            " 0.94038827 0.9504246  0.96865198 0.98422477 0.97267166 0.9731267\n",
            " 0.97130641 0.99496903 1.         0.97813588 0.96189785 0.94264251\n",
            " 0.92579764 0.91149336 0.89945078 0.8891378 ]\n",
            "7 day output [[0.8799432]]\n",
            "8 day input [0.76817675 0.75566281 0.76572453 0.77100816 0.76514304 0.77196884\n",
            " 0.77725248 0.77520475 0.7676458  0.77209521 0.77861758 0.80733639\n",
            " 0.81679132 0.80104154 0.79863986 0.80538981 0.81077452 0.81709467\n",
            " 0.81514809 0.84586402 0.8758721  0.85888352 0.86037515 0.87708559\n",
            " 0.85650722 0.8740772  0.8788805  0.8885124  0.88927079 0.8885124\n",
            " 0.87607439 0.87192833 0.84308314 0.84060569 0.84505502 0.86146219\n",
            " 0.85261398 0.8564313  0.85296787 0.85258867 0.84437248 0.83554957\n",
            " 0.84540899 0.85789762 0.87261095 0.8672767  0.859465   0.86750422\n",
            " 0.86874302 0.88077654 0.87733842 0.85377687 0.87119525 0.87008289\n",
            " 0.85554654 0.86156334 0.8688694  0.88044788 0.89005448 0.90231567\n",
            " 0.87003228 0.88800676 0.91182121 0.89920621 0.88952369 0.89278483\n",
            " 0.91242792 0.91202334 0.91159362 0.91707947 0.91786316 0.928203\n",
            " 0.93732926 0.94718876 0.94344728 0.95219427 0.96437955 0.95702296\n",
            " 0.9512336  0.95803409 0.96334311 0.94774486 0.94362411 0.94038827\n",
            " 0.9504246  0.96865198 0.98422477 0.97267166 0.9731267  0.97130641\n",
            " 0.99496903 1.         0.97813588 0.96189785 0.94264251 0.92579764\n",
            " 0.91149336 0.89945078 0.8891378  0.87994319]\n",
            "8 day output [[0.87136924]]\n",
            "9 day input [0.75566281 0.76572453 0.77100816 0.76514304 0.77196884 0.77725248\n",
            " 0.77520475 0.7676458  0.77209521 0.77861758 0.80733639 0.81679132\n",
            " 0.80104154 0.79863986 0.80538981 0.81077452 0.81709467 0.81514809\n",
            " 0.84586402 0.8758721  0.85888352 0.86037515 0.87708559 0.85650722\n",
            " 0.8740772  0.8788805  0.8885124  0.88927079 0.8885124  0.87607439\n",
            " 0.87192833 0.84308314 0.84060569 0.84505502 0.86146219 0.85261398\n",
            " 0.8564313  0.85296787 0.85258867 0.84437248 0.83554957 0.84540899\n",
            " 0.85789762 0.87261095 0.8672767  0.859465   0.86750422 0.86874302\n",
            " 0.88077654 0.87733842 0.85377687 0.87119525 0.87008289 0.85554654\n",
            " 0.86156334 0.8688694  0.88044788 0.89005448 0.90231567 0.87003228\n",
            " 0.88800676 0.91182121 0.89920621 0.88952369 0.89278483 0.91242792\n",
            " 0.91202334 0.91159362 0.91707947 0.91786316 0.928203   0.93732926\n",
            " 0.94718876 0.94344728 0.95219427 0.96437955 0.95702296 0.9512336\n",
            " 0.95803409 0.96334311 0.94774486 0.94362411 0.94038827 0.9504246\n",
            " 0.96865198 0.98422477 0.97267166 0.9731267  0.97130641 0.99496903\n",
            " 1.         0.97813588 0.96189785 0.94264251 0.92579764 0.91149336\n",
            " 0.89945078 0.8891378  0.87994319 0.87136924]\n",
            "9 day output [[0.86310345]]\n",
            "10 day input [0.76572453 0.77100816 0.76514304 0.77196884 0.77725248 0.77520475\n",
            " 0.7676458  0.77209521 0.77861758 0.80733639 0.81679132 0.80104154\n",
            " 0.79863986 0.80538981 0.81077452 0.81709467 0.81514809 0.84586402\n",
            " 0.8758721  0.85888352 0.86037515 0.87708559 0.85650722 0.8740772\n",
            " 0.8788805  0.8885124  0.88927079 0.8885124  0.87607439 0.87192833\n",
            " 0.84308314 0.84060569 0.84505502 0.86146219 0.85261398 0.8564313\n",
            " 0.85296787 0.85258867 0.84437248 0.83554957 0.84540899 0.85789762\n",
            " 0.87261095 0.8672767  0.859465   0.86750422 0.86874302 0.88077654\n",
            " 0.87733842 0.85377687 0.87119525 0.87008289 0.85554654 0.86156334\n",
            " 0.8688694  0.88044788 0.89005448 0.90231567 0.87003228 0.88800676\n",
            " 0.91182121 0.89920621 0.88952369 0.89278483 0.91242792 0.91202334\n",
            " 0.91159362 0.91707947 0.91786316 0.928203   0.93732926 0.94718876\n",
            " 0.94344728 0.95219427 0.96437955 0.95702296 0.9512336  0.95803409\n",
            " 0.96334311 0.94774486 0.94362411 0.94038827 0.9504246  0.96865198\n",
            " 0.98422477 0.97267166 0.9731267  0.97130641 0.99496903 1.\n",
            " 0.97813588 0.96189785 0.94264251 0.92579764 0.91149336 0.89945078\n",
            " 0.8891378  0.87994319 0.87136924 0.86310345]\n",
            "10 day output [[0.85501397]]\n",
            "11 day input [0.77100816 0.76514304 0.77196884 0.77725248 0.77520475 0.7676458\n",
            " 0.77209521 0.77861758 0.80733639 0.81679132 0.80104154 0.79863986\n",
            " 0.80538981 0.81077452 0.81709467 0.81514809 0.84586402 0.8758721\n",
            " 0.85888352 0.86037515 0.87708559 0.85650722 0.8740772  0.8788805\n",
            " 0.8885124  0.88927079 0.8885124  0.87607439 0.87192833 0.84308314\n",
            " 0.84060569 0.84505502 0.86146219 0.85261398 0.8564313  0.85296787\n",
            " 0.85258867 0.84437248 0.83554957 0.84540899 0.85789762 0.87261095\n",
            " 0.8672767  0.859465   0.86750422 0.86874302 0.88077654 0.87733842\n",
            " 0.85377687 0.87119525 0.87008289 0.85554654 0.86156334 0.8688694\n",
            " 0.88044788 0.89005448 0.90231567 0.87003228 0.88800676 0.91182121\n",
            " 0.89920621 0.88952369 0.89278483 0.91242792 0.91202334 0.91159362\n",
            " 0.91707947 0.91786316 0.928203   0.93732926 0.94718876 0.94344728\n",
            " 0.95219427 0.96437955 0.95702296 0.9512336  0.95803409 0.96334311\n",
            " 0.94774486 0.94362411 0.94038827 0.9504246  0.96865198 0.98422477\n",
            " 0.97267166 0.9731267  0.97130641 0.99496903 1.         0.97813588\n",
            " 0.96189785 0.94264251 0.92579764 0.91149336 0.89945078 0.8891378\n",
            " 0.87994319 0.87136924 0.86310345 0.85501397]\n",
            "11 day output [[0.8471086]]\n",
            "12 day input [0.76514304 0.77196884 0.77725248 0.77520475 0.7676458  0.77209521\n",
            " 0.77861758 0.80733639 0.81679132 0.80104154 0.79863986 0.80538981\n",
            " 0.81077452 0.81709467 0.81514809 0.84586402 0.8758721  0.85888352\n",
            " 0.86037515 0.87708559 0.85650722 0.8740772  0.8788805  0.8885124\n",
            " 0.88927079 0.8885124  0.87607439 0.87192833 0.84308314 0.84060569\n",
            " 0.84505502 0.86146219 0.85261398 0.8564313  0.85296787 0.85258867\n",
            " 0.84437248 0.83554957 0.84540899 0.85789762 0.87261095 0.8672767\n",
            " 0.859465   0.86750422 0.86874302 0.88077654 0.87733842 0.85377687\n",
            " 0.87119525 0.87008289 0.85554654 0.86156334 0.8688694  0.88044788\n",
            " 0.89005448 0.90231567 0.87003228 0.88800676 0.91182121 0.89920621\n",
            " 0.88952369 0.89278483 0.91242792 0.91202334 0.91159362 0.91707947\n",
            " 0.91786316 0.928203   0.93732926 0.94718876 0.94344728 0.95219427\n",
            " 0.96437955 0.95702296 0.9512336  0.95803409 0.96334311 0.94774486\n",
            " 0.94362411 0.94038827 0.9504246  0.96865198 0.98422477 0.97267166\n",
            " 0.9731267  0.97130641 0.99496903 1.         0.97813588 0.96189785\n",
            " 0.94264251 0.92579764 0.91149336 0.89945078 0.8891378  0.87994319\n",
            " 0.87136924 0.86310345 0.85501397 0.8471086 ]\n",
            "12 day output [[0.83948046]]\n",
            "13 day input [0.77196884 0.77725248 0.77520475 0.7676458  0.77209521 0.77861758\n",
            " 0.80733639 0.81679132 0.80104154 0.79863986 0.80538981 0.81077452\n",
            " 0.81709467 0.81514809 0.84586402 0.8758721  0.85888352 0.86037515\n",
            " 0.87708559 0.85650722 0.8740772  0.8788805  0.8885124  0.88927079\n",
            " 0.8885124  0.87607439 0.87192833 0.84308314 0.84060569 0.84505502\n",
            " 0.86146219 0.85261398 0.8564313  0.85296787 0.85258867 0.84437248\n",
            " 0.83554957 0.84540899 0.85789762 0.87261095 0.8672767  0.859465\n",
            " 0.86750422 0.86874302 0.88077654 0.87733842 0.85377687 0.87119525\n",
            " 0.87008289 0.85554654 0.86156334 0.8688694  0.88044788 0.89005448\n",
            " 0.90231567 0.87003228 0.88800676 0.91182121 0.89920621 0.88952369\n",
            " 0.89278483 0.91242792 0.91202334 0.91159362 0.91707947 0.91786316\n",
            " 0.928203   0.93732926 0.94718876 0.94344728 0.95219427 0.96437955\n",
            " 0.95702296 0.9512336  0.95803409 0.96334311 0.94774486 0.94362411\n",
            " 0.94038827 0.9504246  0.96865198 0.98422477 0.97267166 0.9731267\n",
            " 0.97130641 0.99496903 1.         0.97813588 0.96189785 0.94264251\n",
            " 0.92579764 0.91149336 0.89945078 0.8891378  0.87994319 0.87136924\n",
            " 0.86310345 0.85501397 0.8471086  0.83948046]\n",
            "13 day output [[0.83225733]]\n",
            "14 day input [0.77725248 0.77520475 0.7676458  0.77209521 0.77861758 0.80733639\n",
            " 0.81679132 0.80104154 0.79863986 0.80538981 0.81077452 0.81709467\n",
            " 0.81514809 0.84586402 0.8758721  0.85888352 0.86037515 0.87708559\n",
            " 0.85650722 0.8740772  0.8788805  0.8885124  0.88927079 0.8885124\n",
            " 0.87607439 0.87192833 0.84308314 0.84060569 0.84505502 0.86146219\n",
            " 0.85261398 0.8564313  0.85296787 0.85258867 0.84437248 0.83554957\n",
            " 0.84540899 0.85789762 0.87261095 0.8672767  0.859465   0.86750422\n",
            " 0.86874302 0.88077654 0.87733842 0.85377687 0.87119525 0.87008289\n",
            " 0.85554654 0.86156334 0.8688694  0.88044788 0.89005448 0.90231567\n",
            " 0.87003228 0.88800676 0.91182121 0.89920621 0.88952369 0.89278483\n",
            " 0.91242792 0.91202334 0.91159362 0.91707947 0.91786316 0.928203\n",
            " 0.93732926 0.94718876 0.94344728 0.95219427 0.96437955 0.95702296\n",
            " 0.9512336  0.95803409 0.96334311 0.94774486 0.94362411 0.94038827\n",
            " 0.9504246  0.96865198 0.98422477 0.97267166 0.9731267  0.97130641\n",
            " 0.99496903 1.         0.97813588 0.96189785 0.94264251 0.92579764\n",
            " 0.91149336 0.89945078 0.8891378  0.87994319 0.87136924 0.86310345\n",
            " 0.85501397 0.8471086  0.83948046 0.83225733]\n",
            "14 day output [[0.8255623]]\n",
            "15 day input [0.77520475 0.7676458  0.77209521 0.77861758 0.80733639 0.81679132\n",
            " 0.80104154 0.79863986 0.80538981 0.81077452 0.81709467 0.81514809\n",
            " 0.84586402 0.8758721  0.85888352 0.86037515 0.87708559 0.85650722\n",
            " 0.8740772  0.8788805  0.8885124  0.88927079 0.8885124  0.87607439\n",
            " 0.87192833 0.84308314 0.84060569 0.84505502 0.86146219 0.85261398\n",
            " 0.8564313  0.85296787 0.85258867 0.84437248 0.83554957 0.84540899\n",
            " 0.85789762 0.87261095 0.8672767  0.859465   0.86750422 0.86874302\n",
            " 0.88077654 0.87733842 0.85377687 0.87119525 0.87008289 0.85554654\n",
            " 0.86156334 0.8688694  0.88044788 0.89005448 0.90231567 0.87003228\n",
            " 0.88800676 0.91182121 0.89920621 0.88952369 0.89278483 0.91242792\n",
            " 0.91202334 0.91159362 0.91707947 0.91786316 0.928203   0.93732926\n",
            " 0.94718876 0.94344728 0.95219427 0.96437955 0.95702296 0.9512336\n",
            " 0.95803409 0.96334311 0.94774486 0.94362411 0.94038827 0.9504246\n",
            " 0.96865198 0.98422477 0.97267166 0.9731267  0.97130641 0.99496903\n",
            " 1.         0.97813588 0.96189785 0.94264251 0.92579764 0.91149336\n",
            " 0.89945078 0.8891378  0.87994319 0.87136924 0.86310345 0.85501397\n",
            " 0.8471086  0.83948046 0.83225733 0.8255623 ]\n",
            "15 day output [[0.819489]]\n",
            "16 day input [0.7676458  0.77209521 0.77861758 0.80733639 0.81679132 0.80104154\n",
            " 0.79863986 0.80538981 0.81077452 0.81709467 0.81514809 0.84586402\n",
            " 0.8758721  0.85888352 0.86037515 0.87708559 0.85650722 0.8740772\n",
            " 0.8788805  0.8885124  0.88927079 0.8885124  0.87607439 0.87192833\n",
            " 0.84308314 0.84060569 0.84505502 0.86146219 0.85261398 0.8564313\n",
            " 0.85296787 0.85258867 0.84437248 0.83554957 0.84540899 0.85789762\n",
            " 0.87261095 0.8672767  0.859465   0.86750422 0.86874302 0.88077654\n",
            " 0.87733842 0.85377687 0.87119525 0.87008289 0.85554654 0.86156334\n",
            " 0.8688694  0.88044788 0.89005448 0.90231567 0.87003228 0.88800676\n",
            " 0.91182121 0.89920621 0.88952369 0.89278483 0.91242792 0.91202334\n",
            " 0.91159362 0.91707947 0.91786316 0.928203   0.93732926 0.94718876\n",
            " 0.94344728 0.95219427 0.96437955 0.95702296 0.9512336  0.95803409\n",
            " 0.96334311 0.94774486 0.94362411 0.94038827 0.9504246  0.96865198\n",
            " 0.98422477 0.97267166 0.9731267  0.97130641 0.99496903 1.\n",
            " 0.97813588 0.96189785 0.94264251 0.92579764 0.91149336 0.89945078\n",
            " 0.8891378  0.87994319 0.87136924 0.86310345 0.85501397 0.8471086\n",
            " 0.83948046 0.83225733 0.8255623  0.819489  ]\n",
            "16 day output [[0.8140907]]\n",
            "17 day input [0.77209521 0.77861758 0.80733639 0.81679132 0.80104154 0.79863986\n",
            " 0.80538981 0.81077452 0.81709467 0.81514809 0.84586402 0.8758721\n",
            " 0.85888352 0.86037515 0.87708559 0.85650722 0.8740772  0.8788805\n",
            " 0.8885124  0.88927079 0.8885124  0.87607439 0.87192833 0.84308314\n",
            " 0.84060569 0.84505502 0.86146219 0.85261398 0.8564313  0.85296787\n",
            " 0.85258867 0.84437248 0.83554957 0.84540899 0.85789762 0.87261095\n",
            " 0.8672767  0.859465   0.86750422 0.86874302 0.88077654 0.87733842\n",
            " 0.85377687 0.87119525 0.87008289 0.85554654 0.86156334 0.8688694\n",
            " 0.88044788 0.89005448 0.90231567 0.87003228 0.88800676 0.91182121\n",
            " 0.89920621 0.88952369 0.89278483 0.91242792 0.91202334 0.91159362\n",
            " 0.91707947 0.91786316 0.928203   0.93732926 0.94718876 0.94344728\n",
            " 0.95219427 0.96437955 0.95702296 0.9512336  0.95803409 0.96334311\n",
            " 0.94774486 0.94362411 0.94038827 0.9504246  0.96865198 0.98422477\n",
            " 0.97267166 0.9731267  0.97130641 0.99496903 1.         0.97813588\n",
            " 0.96189785 0.94264251 0.92579764 0.91149336 0.89945078 0.8891378\n",
            " 0.87994319 0.87136924 0.86310345 0.85501397 0.8471086  0.83948046\n",
            " 0.83225733 0.8255623  0.819489   0.81409073]\n",
            "17 day output [[0.80937946]]\n",
            "18 day input [0.77861758 0.80733639 0.81679132 0.80104154 0.79863986 0.80538981\n",
            " 0.81077452 0.81709467 0.81514809 0.84586402 0.8758721  0.85888352\n",
            " 0.86037515 0.87708559 0.85650722 0.8740772  0.8788805  0.8885124\n",
            " 0.88927079 0.8885124  0.87607439 0.87192833 0.84308314 0.84060569\n",
            " 0.84505502 0.86146219 0.85261398 0.8564313  0.85296787 0.85258867\n",
            " 0.84437248 0.83554957 0.84540899 0.85789762 0.87261095 0.8672767\n",
            " 0.859465   0.86750422 0.86874302 0.88077654 0.87733842 0.85377687\n",
            " 0.87119525 0.87008289 0.85554654 0.86156334 0.8688694  0.88044788\n",
            " 0.89005448 0.90231567 0.87003228 0.88800676 0.91182121 0.89920621\n",
            " 0.88952369 0.89278483 0.91242792 0.91202334 0.91159362 0.91707947\n",
            " 0.91786316 0.928203   0.93732926 0.94718876 0.94344728 0.95219427\n",
            " 0.96437955 0.95702296 0.9512336  0.95803409 0.96334311 0.94774486\n",
            " 0.94362411 0.94038827 0.9504246  0.96865198 0.98422477 0.97267166\n",
            " 0.9731267  0.97130641 0.99496903 1.         0.97813588 0.96189785\n",
            " 0.94264251 0.92579764 0.91149336 0.89945078 0.8891378  0.87994319\n",
            " 0.87136924 0.86310345 0.85501397 0.8471086  0.83948046 0.83225733\n",
            " 0.8255623  0.819489   0.81409073 0.80937946]\n",
            "18 day output [[0.805332]]\n",
            "19 day input [0.80733639 0.81679132 0.80104154 0.79863986 0.80538981 0.81077452\n",
            " 0.81709467 0.81514809 0.84586402 0.8758721  0.85888352 0.86037515\n",
            " 0.87708559 0.85650722 0.8740772  0.8788805  0.8885124  0.88927079\n",
            " 0.8885124  0.87607439 0.87192833 0.84308314 0.84060569 0.84505502\n",
            " 0.86146219 0.85261398 0.8564313  0.85296787 0.85258867 0.84437248\n",
            " 0.83554957 0.84540899 0.85789762 0.87261095 0.8672767  0.859465\n",
            " 0.86750422 0.86874302 0.88077654 0.87733842 0.85377687 0.87119525\n",
            " 0.87008289 0.85554654 0.86156334 0.8688694  0.88044788 0.89005448\n",
            " 0.90231567 0.87003228 0.88800676 0.91182121 0.89920621 0.88952369\n",
            " 0.89278483 0.91242792 0.91202334 0.91159362 0.91707947 0.91786316\n",
            " 0.928203   0.93732926 0.94718876 0.94344728 0.95219427 0.96437955\n",
            " 0.95702296 0.9512336  0.95803409 0.96334311 0.94774486 0.94362411\n",
            " 0.94038827 0.9504246  0.96865198 0.98422477 0.97267166 0.9731267\n",
            " 0.97130641 0.99496903 1.         0.97813588 0.96189785 0.94264251\n",
            " 0.92579764 0.91149336 0.89945078 0.8891378  0.87994319 0.87136924\n",
            " 0.86310345 0.85501397 0.8471086  0.83948046 0.83225733 0.8255623\n",
            " 0.819489   0.81409073 0.80937946 0.80533201]\n",
            "19 day output [[0.80189776]]\n",
            "20 day input [0.81679132 0.80104154 0.79863986 0.80538981 0.81077452 0.81709467\n",
            " 0.81514809 0.84586402 0.8758721  0.85888352 0.86037515 0.87708559\n",
            " 0.85650722 0.8740772  0.8788805  0.8885124  0.88927079 0.8885124\n",
            " 0.87607439 0.87192833 0.84308314 0.84060569 0.84505502 0.86146219\n",
            " 0.85261398 0.8564313  0.85296787 0.85258867 0.84437248 0.83554957\n",
            " 0.84540899 0.85789762 0.87261095 0.8672767  0.859465   0.86750422\n",
            " 0.86874302 0.88077654 0.87733842 0.85377687 0.87119525 0.87008289\n",
            " 0.85554654 0.86156334 0.8688694  0.88044788 0.89005448 0.90231567\n",
            " 0.87003228 0.88800676 0.91182121 0.89920621 0.88952369 0.89278483\n",
            " 0.91242792 0.91202334 0.91159362 0.91707947 0.91786316 0.928203\n",
            " 0.93732926 0.94718876 0.94344728 0.95219427 0.96437955 0.95702296\n",
            " 0.9512336  0.95803409 0.96334311 0.94774486 0.94362411 0.94038827\n",
            " 0.9504246  0.96865198 0.98422477 0.97267166 0.9731267  0.97130641\n",
            " 0.99496903 1.         0.97813588 0.96189785 0.94264251 0.92579764\n",
            " 0.91149336 0.89945078 0.8891378  0.87994319 0.87136924 0.86310345\n",
            " 0.85501397 0.8471086  0.83948046 0.83225733 0.8255623  0.819489\n",
            " 0.81409073 0.80937946 0.80533201 0.80189776]\n",
            "20 day output [[0.79900974]]\n",
            "21 day input [0.80104154 0.79863986 0.80538981 0.81077452 0.81709467 0.81514809\n",
            " 0.84586402 0.8758721  0.85888352 0.86037515 0.87708559 0.85650722\n",
            " 0.8740772  0.8788805  0.8885124  0.88927079 0.8885124  0.87607439\n",
            " 0.87192833 0.84308314 0.84060569 0.84505502 0.86146219 0.85261398\n",
            " 0.8564313  0.85296787 0.85258867 0.84437248 0.83554957 0.84540899\n",
            " 0.85789762 0.87261095 0.8672767  0.859465   0.86750422 0.86874302\n",
            " 0.88077654 0.87733842 0.85377687 0.87119525 0.87008289 0.85554654\n",
            " 0.86156334 0.8688694  0.88044788 0.89005448 0.90231567 0.87003228\n",
            " 0.88800676 0.91182121 0.89920621 0.88952369 0.89278483 0.91242792\n",
            " 0.91202334 0.91159362 0.91707947 0.91786316 0.928203   0.93732926\n",
            " 0.94718876 0.94344728 0.95219427 0.96437955 0.95702296 0.9512336\n",
            " 0.95803409 0.96334311 0.94774486 0.94362411 0.94038827 0.9504246\n",
            " 0.96865198 0.98422477 0.97267166 0.9731267  0.97130641 0.99496903\n",
            " 1.         0.97813588 0.96189785 0.94264251 0.92579764 0.91149336\n",
            " 0.89945078 0.8891378  0.87994319 0.87136924 0.86310345 0.85501397\n",
            " 0.8471086  0.83948046 0.83225733 0.8255623  0.819489   0.81409073\n",
            " 0.80937946 0.80533201 0.80189776 0.79900974]\n",
            "21 day output [[0.79659003]]\n",
            "22 day input [0.79863986 0.80538981 0.81077452 0.81709467 0.81514809 0.84586402\n",
            " 0.8758721  0.85888352 0.86037515 0.87708559 0.85650722 0.8740772\n",
            " 0.8788805  0.8885124  0.88927079 0.8885124  0.87607439 0.87192833\n",
            " 0.84308314 0.84060569 0.84505502 0.86146219 0.85261398 0.8564313\n",
            " 0.85296787 0.85258867 0.84437248 0.83554957 0.84540899 0.85789762\n",
            " 0.87261095 0.8672767  0.859465   0.86750422 0.86874302 0.88077654\n",
            " 0.87733842 0.85377687 0.87119525 0.87008289 0.85554654 0.86156334\n",
            " 0.8688694  0.88044788 0.89005448 0.90231567 0.87003228 0.88800676\n",
            " 0.91182121 0.89920621 0.88952369 0.89278483 0.91242792 0.91202334\n",
            " 0.91159362 0.91707947 0.91786316 0.928203   0.93732926 0.94718876\n",
            " 0.94344728 0.95219427 0.96437955 0.95702296 0.9512336  0.95803409\n",
            " 0.96334311 0.94774486 0.94362411 0.94038827 0.9504246  0.96865198\n",
            " 0.98422477 0.97267166 0.9731267  0.97130641 0.99496903 1.\n",
            " 0.97813588 0.96189785 0.94264251 0.92579764 0.91149336 0.89945078\n",
            " 0.8891378  0.87994319 0.87136924 0.86310345 0.85501397 0.8471086\n",
            " 0.83948046 0.83225733 0.8255623  0.819489   0.81409073 0.80937946\n",
            " 0.80533201 0.80189776 0.79900974 0.79659003]\n",
            "22 day output [[0.7945595]]\n",
            "23 day input [0.80538981 0.81077452 0.81709467 0.81514809 0.84586402 0.8758721\n",
            " 0.85888352 0.86037515 0.87708559 0.85650722 0.8740772  0.8788805\n",
            " 0.8885124  0.88927079 0.8885124  0.87607439 0.87192833 0.84308314\n",
            " 0.84060569 0.84505502 0.86146219 0.85261398 0.8564313  0.85296787\n",
            " 0.85258867 0.84437248 0.83554957 0.84540899 0.85789762 0.87261095\n",
            " 0.8672767  0.859465   0.86750422 0.86874302 0.88077654 0.87733842\n",
            " 0.85377687 0.87119525 0.87008289 0.85554654 0.86156334 0.8688694\n",
            " 0.88044788 0.89005448 0.90231567 0.87003228 0.88800676 0.91182121\n",
            " 0.89920621 0.88952369 0.89278483 0.91242792 0.91202334 0.91159362\n",
            " 0.91707947 0.91786316 0.928203   0.93732926 0.94718876 0.94344728\n",
            " 0.95219427 0.96437955 0.95702296 0.9512336  0.95803409 0.96334311\n",
            " 0.94774486 0.94362411 0.94038827 0.9504246  0.96865198 0.98422477\n",
            " 0.97267166 0.9731267  0.97130641 0.99496903 1.         0.97813588\n",
            " 0.96189785 0.94264251 0.92579764 0.91149336 0.89945078 0.8891378\n",
            " 0.87994319 0.87136924 0.86310345 0.85501397 0.8471086  0.83948046\n",
            " 0.83225733 0.8255623  0.819489   0.81409073 0.80937946 0.80533201\n",
            " 0.80189776 0.79900974 0.79659003 0.79455948]\n",
            "23 day output [[0.79283935]]\n",
            "24 day input [0.81077452 0.81709467 0.81514809 0.84586402 0.8758721  0.85888352\n",
            " 0.86037515 0.87708559 0.85650722 0.8740772  0.8788805  0.8885124\n",
            " 0.88927079 0.8885124  0.87607439 0.87192833 0.84308314 0.84060569\n",
            " 0.84505502 0.86146219 0.85261398 0.8564313  0.85296787 0.85258867\n",
            " 0.84437248 0.83554957 0.84540899 0.85789762 0.87261095 0.8672767\n",
            " 0.859465   0.86750422 0.86874302 0.88077654 0.87733842 0.85377687\n",
            " 0.87119525 0.87008289 0.85554654 0.86156334 0.8688694  0.88044788\n",
            " 0.89005448 0.90231567 0.87003228 0.88800676 0.91182121 0.89920621\n",
            " 0.88952369 0.89278483 0.91242792 0.91202334 0.91159362 0.91707947\n",
            " 0.91786316 0.928203   0.93732926 0.94718876 0.94344728 0.95219427\n",
            " 0.96437955 0.95702296 0.9512336  0.95803409 0.96334311 0.94774486\n",
            " 0.94362411 0.94038827 0.9504246  0.96865198 0.98422477 0.97267166\n",
            " 0.9731267  0.97130641 0.99496903 1.         0.97813588 0.96189785\n",
            " 0.94264251 0.92579764 0.91149336 0.89945078 0.8891378  0.87994319\n",
            " 0.87136924 0.86310345 0.85501397 0.8471086  0.83948046 0.83225733\n",
            " 0.8255623  0.819489   0.81409073 0.80937946 0.80533201 0.80189776\n",
            " 0.79900974 0.79659003 0.79455948 0.79283935]\n",
            "24 day output [[0.79135656]]\n",
            "25 day input [0.81709467 0.81514809 0.84586402 0.8758721  0.85888352 0.86037515\n",
            " 0.87708559 0.85650722 0.8740772  0.8788805  0.8885124  0.88927079\n",
            " 0.8885124  0.87607439 0.87192833 0.84308314 0.84060569 0.84505502\n",
            " 0.86146219 0.85261398 0.8564313  0.85296787 0.85258867 0.84437248\n",
            " 0.83554957 0.84540899 0.85789762 0.87261095 0.8672767  0.859465\n",
            " 0.86750422 0.86874302 0.88077654 0.87733842 0.85377687 0.87119525\n",
            " 0.87008289 0.85554654 0.86156334 0.8688694  0.88044788 0.89005448\n",
            " 0.90231567 0.87003228 0.88800676 0.91182121 0.89920621 0.88952369\n",
            " 0.89278483 0.91242792 0.91202334 0.91159362 0.91707947 0.91786316\n",
            " 0.928203   0.93732926 0.94718876 0.94344728 0.95219427 0.96437955\n",
            " 0.95702296 0.9512336  0.95803409 0.96334311 0.94774486 0.94362411\n",
            " 0.94038827 0.9504246  0.96865198 0.98422477 0.97267166 0.9731267\n",
            " 0.97130641 0.99496903 1.         0.97813588 0.96189785 0.94264251\n",
            " 0.92579764 0.91149336 0.89945078 0.8891378  0.87994319 0.87136924\n",
            " 0.86310345 0.85501397 0.8471086  0.83948046 0.83225733 0.8255623\n",
            " 0.819489   0.81409073 0.80937946 0.80533201 0.80189776 0.79900974\n",
            " 0.79659003 0.79455948 0.79283935 0.79135656]\n",
            "25 day output [[0.7900431]]\n",
            "26 day input [0.81514809 0.84586402 0.8758721  0.85888352 0.86037515 0.87708559\n",
            " 0.85650722 0.8740772  0.8788805  0.8885124  0.88927079 0.8885124\n",
            " 0.87607439 0.87192833 0.84308314 0.84060569 0.84505502 0.86146219\n",
            " 0.85261398 0.8564313  0.85296787 0.85258867 0.84437248 0.83554957\n",
            " 0.84540899 0.85789762 0.87261095 0.8672767  0.859465   0.86750422\n",
            " 0.86874302 0.88077654 0.87733842 0.85377687 0.87119525 0.87008289\n",
            " 0.85554654 0.86156334 0.8688694  0.88044788 0.89005448 0.90231567\n",
            " 0.87003228 0.88800676 0.91182121 0.89920621 0.88952369 0.89278483\n",
            " 0.91242792 0.91202334 0.91159362 0.91707947 0.91786316 0.928203\n",
            " 0.93732926 0.94718876 0.94344728 0.95219427 0.96437955 0.95702296\n",
            " 0.9512336  0.95803409 0.96334311 0.94774486 0.94362411 0.94038827\n",
            " 0.9504246  0.96865198 0.98422477 0.97267166 0.9731267  0.97130641\n",
            " 0.99496903 1.         0.97813588 0.96189785 0.94264251 0.92579764\n",
            " 0.91149336 0.89945078 0.8891378  0.87994319 0.87136924 0.86310345\n",
            " 0.85501397 0.8471086  0.83948046 0.83225733 0.8255623  0.819489\n",
            " 0.81409073 0.80937946 0.80533201 0.80189776 0.79900974 0.79659003\n",
            " 0.79455948 0.79283935 0.79135656 0.79004312]\n",
            "26 day output [[0.78883904]]\n",
            "27 day input [0.84586402 0.8758721  0.85888352 0.86037515 0.87708559 0.85650722\n",
            " 0.8740772  0.8788805  0.8885124  0.88927079 0.8885124  0.87607439\n",
            " 0.87192833 0.84308314 0.84060569 0.84505502 0.86146219 0.85261398\n",
            " 0.8564313  0.85296787 0.85258867 0.84437248 0.83554957 0.84540899\n",
            " 0.85789762 0.87261095 0.8672767  0.859465   0.86750422 0.86874302\n",
            " 0.88077654 0.87733842 0.85377687 0.87119525 0.87008289 0.85554654\n",
            " 0.86156334 0.8688694  0.88044788 0.89005448 0.90231567 0.87003228\n",
            " 0.88800676 0.91182121 0.89920621 0.88952369 0.89278483 0.91242792\n",
            " 0.91202334 0.91159362 0.91707947 0.91786316 0.928203   0.93732926\n",
            " 0.94718876 0.94344728 0.95219427 0.96437955 0.95702296 0.9512336\n",
            " 0.95803409 0.96334311 0.94774486 0.94362411 0.94038827 0.9504246\n",
            " 0.96865198 0.98422477 0.97267166 0.9731267  0.97130641 0.99496903\n",
            " 1.         0.97813588 0.96189785 0.94264251 0.92579764 0.91149336\n",
            " 0.89945078 0.8891378  0.87994319 0.87136924 0.86310345 0.85501397\n",
            " 0.8471086  0.83948046 0.83225733 0.8255623  0.819489   0.81409073\n",
            " 0.80937946 0.80533201 0.80189776 0.79900974 0.79659003 0.79455948\n",
            " 0.79283935 0.79135656 0.79004312 0.78883904]\n",
            "27 day output [[0.78769016]]\n",
            "28 day input [0.8758721  0.85888352 0.86037515 0.87708559 0.85650722 0.8740772\n",
            " 0.8788805  0.8885124  0.88927079 0.8885124  0.87607439 0.87192833\n",
            " 0.84308314 0.84060569 0.84505502 0.86146219 0.85261398 0.8564313\n",
            " 0.85296787 0.85258867 0.84437248 0.83554957 0.84540899 0.85789762\n",
            " 0.87261095 0.8672767  0.859465   0.86750422 0.86874302 0.88077654\n",
            " 0.87733842 0.85377687 0.87119525 0.87008289 0.85554654 0.86156334\n",
            " 0.8688694  0.88044788 0.89005448 0.90231567 0.87003228 0.88800676\n",
            " 0.91182121 0.89920621 0.88952369 0.89278483 0.91242792 0.91202334\n",
            " 0.91159362 0.91707947 0.91786316 0.928203   0.93732926 0.94718876\n",
            " 0.94344728 0.95219427 0.96437955 0.95702296 0.9512336  0.95803409\n",
            " 0.96334311 0.94774486 0.94362411 0.94038827 0.9504246  0.96865198\n",
            " 0.98422477 0.97267166 0.9731267  0.97130641 0.99496903 1.\n",
            " 0.97813588 0.96189785 0.94264251 0.92579764 0.91149336 0.89945078\n",
            " 0.8891378  0.87994319 0.87136924 0.86310345 0.85501397 0.8471086\n",
            " 0.83948046 0.83225733 0.8255623  0.819489   0.81409073 0.80937946\n",
            " 0.80533201 0.80189776 0.79900974 0.79659003 0.79455948 0.79283935\n",
            " 0.79135656 0.79004312 0.78883904 0.78769016]\n",
            "28 day output [[0.7865485]]\n",
            "29 day input [0.85888352 0.86037515 0.87708559 0.85650722 0.8740772  0.8788805\n",
            " 0.8885124  0.88927079 0.8885124  0.87607439 0.87192833 0.84308314\n",
            " 0.84060569 0.84505502 0.86146219 0.85261398 0.8564313  0.85296787\n",
            " 0.85258867 0.84437248 0.83554957 0.84540899 0.85789762 0.87261095\n",
            " 0.8672767  0.859465   0.86750422 0.86874302 0.88077654 0.87733842\n",
            " 0.85377687 0.87119525 0.87008289 0.85554654 0.86156334 0.8688694\n",
            " 0.88044788 0.89005448 0.90231567 0.87003228 0.88800676 0.91182121\n",
            " 0.89920621 0.88952369 0.89278483 0.91242792 0.91202334 0.91159362\n",
            " 0.91707947 0.91786316 0.928203   0.93732926 0.94718876 0.94344728\n",
            " 0.95219427 0.96437955 0.95702296 0.9512336  0.95803409 0.96334311\n",
            " 0.94774486 0.94362411 0.94038827 0.9504246  0.96865198 0.98422477\n",
            " 0.97267166 0.9731267  0.97130641 0.99496903 1.         0.97813588\n",
            " 0.96189785 0.94264251 0.92579764 0.91149336 0.89945078 0.8891378\n",
            " 0.87994319 0.87136924 0.86310345 0.85501397 0.8471086  0.83948046\n",
            " 0.83225733 0.8255623  0.819489   0.81409073 0.80937946 0.80533201\n",
            " 0.80189776 0.79900974 0.79659003 0.79455948 0.79283935 0.79135656\n",
            " 0.79004312 0.78883904 0.78769016 0.7865485 ]\n",
            "29 day output [[0.78537345]]\n",
            "[[0.978135883808136], [0.9618978500366211], [0.9426425099372864], [0.9257976412773132], [0.9114933609962463], [0.8994507789611816], [0.8891378045082092], [0.8799431920051575], [0.8713692426681519], [0.863103449344635], [0.8550139665603638], [0.8471086025238037], [0.839480459690094], [0.8322573304176331], [0.8255622982978821], [0.8194890022277832], [0.8140907287597656], [0.8093794584274292], [0.8053320050239563], [0.8018977642059326], [0.7990097403526306], [0.7965900301933289], [0.7945594787597656], [0.7928393483161926], [0.7913565635681152], [0.7900431156158447], [0.7888390421867371], [0.7876901626586914], [0.7865484952926636], [0.7853734493255615]]\n"
          ]
        }
      ]
    },
    {
      "cell_type": "code",
      "source": [
        "day_new=np.arange(1,101)\n",
        "day_pred=np.arange(101,131)"
      ],
      "metadata": {
        "id": "9MmcW-7SZqwC"
      },
      "execution_count": 34,
      "outputs": []
    },
    {
      "cell_type": "code",
      "source": [
        "len(df1)"
      ],
      "metadata": {
        "colab": {
          "base_uri": "https://localhost:8080/"
        },
        "id": "mH0BaRd1ZzU1",
        "outputId": "ade7a9f3-8842-4273-aaca-62c5f055377b"
      },
      "execution_count": 35,
      "outputs": [
        {
          "output_type": "execute_result",
          "data": {
            "text/plain": [
              "3079"
            ]
          },
          "metadata": {},
          "execution_count": 35
        }
      ]
    },
    {
      "cell_type": "code",
      "source": [
        "plt.plot(day_new,scaler.inverse_transform(df1[2979:]))\n",
        "plt.plot(day_pred,scaler.inverse_transform(lst_output))"
      ],
      "metadata": {
        "colab": {
          "base_uri": "https://localhost:8080/",
          "height": 447
        },
        "id": "gMp_GU2EZ2b_",
        "outputId": "ced944e2-e3f3-4be0-f251-06bce55943b4"
      },
      "execution_count": 36,
      "outputs": [
        {
          "output_type": "execute_result",
          "data": {
            "text/plain": [
              "[<matplotlib.lines.Line2D at 0x7a3431f05420>]"
            ]
          },
          "metadata": {},
          "execution_count": 36
        },
        {
          "output_type": "display_data",
          "data": {
            "text/plain": [
              "<Figure size 640x480 with 1 Axes>"
            ],
            "image/png": "[encoded data removed]"
          },
          "metadata": {}
        }
      ]
    },
    {
      "cell_type": "code",
      "source": [
        "df3=df1.tolist()\n",
        "df3.extend(lst_output)\n",
        "plt.plot(df3[1200:])"
      ],
      "metadata": {
        "colab": {
          "base_uri": "https://localhost:8080/",
          "height": 447
        },
        "id": "OkjglxJqZ8gb",
        "outputId": "1c075789-006b-42e0-f05a-cbeaeffb3c17"
      },
      "execution_count": 37,
      "outputs": [
        {
          "output_type": "execute_result",
          "data": {
            "text/plain": [
              "[<matplotlib.lines.Line2D at 0x7a3431f7dd20>]"
            ]
          },
          "metadata": {},
          "execution_count": 37
        },
        {
          "output_type": "display_data",
          "data": {
            "text/plain": [
              "<Figure size 640x480 with 1 Axes>"
            ],
            "image/png": "[encoded data removed]"
          },
          "metadata": {}
        }
      ]
    },
    {
      "cell_type": "code",
      "source": [
        "df3=scaler.inverse_transform(df3).tolist()\n",
        "plt.plot(df3)"
      ],
      "metadata": {
        "colab": {
          "base_uri": "https://localhost:8080/",
          "height": 447
        },
        "id": "-hv7r6-GaNEL",
        "outputId": "62fadf58-a2a2-4755-8a63-bdeb62ad42d6"
      },
      "execution_count": 38,
      "outputs": [
        {
          "output_type": "execute_result",
          "data": {
            "text/plain": [
              "[<matplotlib.lines.Line2D at 0x7a3430085b40>]"
            ]
          },
          "metadata": {},
          "execution_count": 38
        },
        {
          "output_type": "display_data",
          "data": {
            "text/plain": [
              "<Figure size 640x480 with 1 Axes>"
            ],
            "image/png": "[encoded data removed]"
          },
          "metadata": {}
        }
      ]
    },
    {
      "cell_type": "code",
      "source": [],
      "metadata": {
        "id": "pPoMh3Tzab56"
      },
      "execution_count": 38,
      "outputs": []
    }
  ]
}